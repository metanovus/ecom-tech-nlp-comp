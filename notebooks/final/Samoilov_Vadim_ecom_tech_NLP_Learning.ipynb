{
  "metadata": {
    "kernelspec": {
      "display_name": "Python 3",
      "name": "python3"
    },
    "language_info": {
      "name": "python",
      "version": "3.10.14",
      "mimetype": "text/x-python",
      "codemirror_mode": {
        "name": "ipython",
        "version": 3
      },
      "pygments_lexer": "ipython3",
      "nbconvert_exporter": "python",
      "file_extension": ".py"
    },
    "kaggle": {
      "accelerator": "none",
      "dataSources": [
        {
          "sourceId": 9570393,
          "sourceType": "datasetVersion",
          "datasetId": 5764736
        },
        {
          "sourceId": 123191,
          "sourceType": "modelInstanceVersion",
          "modelInstanceId": 103666,
          "modelId": 127886
        }
      ],
      "dockerImageVersionId": 30775,
      "isInternetEnabled": false,
      "language": "python",
      "sourceType": "notebook",
      "isGpuEnabled": false
    },
    "colab": {
      "provenance": [],
      "gpuType": "T4"
    },
    "accelerator": "GPU"
  },
  "nbformat_minor": 0,
  "nbformat": 4,
  "cells": [
    {
      "cell_type": "markdown",
      "source": [
        "## ecom.tech ноутбук к соревнованию по NLP-задачи мульти-лейбл классификации отзывов о доставке. Часть 1 - Дообучение модели и получение весов"
      ],
      "metadata": {
        "id": "hstUlU3ulkQo"
      }
    },
    {
      "cell_type": "markdown",
      "source": [
        "![image.jpeg](data:image/jpeg;base64,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)"
      ],
      "metadata": {
        "id": "88LfReF9lkQo"
      }
    },
    {
      "cell_type": "markdown",
      "source": [
        "**Важно!**"
      ],
      "metadata": {
        "id": "gCv8euyp5MKf"
      }
    },
    {
      "cell_type": "markdown",
      "source": [
        "Обязательно изменить пути к тренировочным данным и файлу с описанием классов - пункт ноутбука `Обработка данных`. Далее обязательно изменить путь сохранения весов модели, особенно критически это касается `best`-версии - именно она будет использоваться для составления прогнозов."
      ],
      "metadata": {
        "id": "vDygL8vt5XuL"
      }
    },
    {
      "cell_type": "markdown",
      "source": [
        "Не стоит сразу же нажимать на `Выполнить всё`. Советую выполнять ячейки поэтапно, попутно читая всю информацию. Спасибо."
      ],
      "metadata": {
        "id": "X5wUcoeTBHDB"
      }
    },
    {
      "cell_type": "markdown",
      "source": [
        "# Импорт библиотек"
      ],
      "metadata": {
        "id": "XiZEvm3WlkQp"
      }
    },
    {
      "cell_type": "code",
      "source": [
        "import pandas as pd\n",
        "import torch\n",
        "import torch.nn as nn\n",
        "import numpy as np\n",
        "import warnings\n",
        "import os\n",
        "import random\n",
        "\n",
        "from sklearn.model_selection import train_test_split\n",
        "\n",
        "RANDOM_STATE = 42\n",
        "warnings.filterwarnings('ignore')\n",
        "device = torch.device('cuda') if torch.cuda.is_available() else torch.device('cpu')\n",
        "model_name = 'ai-forever/ruRoberta-large'"
      ],
      "metadata": {
        "execution": {
          "iopub.status.busy": "2024-10-08T12:23:49.092632Z",
          "iopub.execute_input": "2024-10-08T12:23:49.093209Z",
          "iopub.status.idle": "2024-10-08T12:23:54.778808Z",
          "shell.execute_reply.started": "2024-10-08T12:23:49.093172Z",
          "shell.execute_reply": "2024-10-08T12:23:54.777736Z"
        },
        "trusted": true,
        "id": "jJcupcZVlkQp"
      },
      "execution_count": null,
      "outputs": []
    },
    {
      "cell_type": "markdown",
      "source": [
        "Следующий код запускает подключение Google Drive. Я работал в Colab, поэтому просьба закомментировать строчку, если он не потребуется."
      ],
      "metadata": {
        "id": "9cd2pAwh5oG0"
      }
    },
    {
      "cell_type": "code",
      "source": [
        "# подключение Google Drive, где лежат данные\n",
        "from google.colab import drive\n",
        "drive.mount('/content/drive')"
      ],
      "metadata": {
        "id": "QpE9hkLylyxT"
      },
      "execution_count": null,
      "outputs": []
    },
    {
      "cell_type": "code",
      "source": [
        "def set_seed(seed):\n",
        "    '''Зафиксируем случайности'''\n",
        "    np.random.seed(seed)\n",
        "    random.seed(seed)\n",
        "    torch.manual_seed(seed)\n",
        "    torch.cuda.manual_seed(seed)\n",
        "    torch.backends.cudnn.deterministic = True\n",
        "    torch.backends.cudnn.benchmark = False\n",
        "    os.environ[\"PYTHONHASHSEED\"] = str(seed)\n",
        "    print(f\"Random seed set as {seed}\")\n",
        "\n",
        "set_seed(RANDOM_STATE)"
      ],
      "metadata": {
        "execution": {
          "iopub.status.busy": "2024-10-08T12:23:54.781045Z",
          "iopub.execute_input": "2024-10-08T12:23:54.781511Z",
          "iopub.status.idle": "2024-10-08T12:23:54.793234Z",
          "shell.execute_reply.started": "2024-10-08T12:23:54.781473Z",
          "shell.execute_reply": "2024-10-08T12:23:54.792326Z"
        },
        "trusted": true,
        "id": "ncENW1ZnlkQp"
      },
      "execution_count": null,
      "outputs": []
    },
    {
      "cell_type": "markdown",
      "source": [
        "# Подготовка данных"
      ],
      "metadata": {
        "id": "L5YpkqGulkQp"
      }
    },
    {
      "cell_type": "markdown",
      "source": [
        "**Памятка**: просьба сменить пути к файлам описания классов (`trends_description.csv`) и файл с тренировочными данными (`train.csv`), иначе случится ошибка."
      ],
      "metadata": {
        "id": "Gk5HfARo3Jrb"
      }
    },
    {
      "cell_type": "code",
      "source": [
        "descrs = pd.read_csv('/content/drive/MyDrive/ecom-tech/trends_description.csv')"
      ],
      "metadata": {
        "execution": {
          "iopub.status.busy": "2024-10-08T12:23:54.794595Z",
          "iopub.execute_input": "2024-10-08T12:23:54.795399Z",
          "iopub.status.idle": "2024-10-08T12:23:54.813024Z",
          "shell.execute_reply.started": "2024-10-08T12:23:54.795359Z",
          "shell.execute_reply": "2024-10-08T12:23:54.812108Z"
        },
        "trusted": true,
        "id": "KZNQbvx-lkQq"
      },
      "execution_count": null,
      "outputs": []
    },
    {
      "cell_type": "code",
      "source": [
        "train_df = pd.read_csv(\n",
        "    '/content/drive/MyDrive/ecom-tech/train.csv'\n",
        "    ).drop(['assessment', 'Unnamed: 0', 'index', 'tags'], axis=1)"
      ],
      "metadata": {
        "execution": {
          "iopub.status.busy": "2024-10-08T12:23:54.815623Z",
          "iopub.execute_input": "2024-10-08T12:23:54.816247Z",
          "iopub.status.idle": "2024-10-08T12:23:54.899701Z",
          "shell.execute_reply.started": "2024-10-08T12:23:54.816204Z",
          "shell.execute_reply": "2024-10-08T12:23:54.898617Z"
        },
        "trusted": true,
        "id": "QxcIQEi-lkQq"
      },
      "execution_count": null,
      "outputs": []
    },
    {
      "cell_type": "code",
      "source": [
        "train_df[[f'trend_id_res{i}' for i in range(50)]] = train_df[[f'trend_id_res{i}' for i in range(50)]].astype(bool)\n",
        "train_df['text'] = train_df['text'].astype(str)"
      ],
      "metadata": {
        "execution": {
          "iopub.status.busy": "2024-10-08T12:23:54.917235Z",
          "iopub.execute_input": "2024-10-08T12:23:54.9176Z",
          "iopub.status.idle": "2024-10-08T12:23:54.938619Z",
          "shell.execute_reply.started": "2024-10-08T12:23:54.917557Z",
          "shell.execute_reply": "2024-10-08T12:23:54.937671Z"
        },
        "trusted": true,
        "id": "04aLuj_ElkQr"
      },
      "execution_count": null,
      "outputs": []
    },
    {
      "cell_type": "code",
      "source": [
        "train_df.head()"
      ],
      "metadata": {
        "execution": {
          "iopub.status.busy": "2024-10-08T12:23:54.939952Z",
          "iopub.execute_input": "2024-10-08T12:23:54.940426Z",
          "iopub.status.idle": "2024-10-08T12:23:54.970746Z",
          "shell.execute_reply.started": "2024-10-08T12:23:54.940356Z",
          "shell.execute_reply": "2024-10-08T12:23:54.96955Z"
        },
        "trusted": true,
        "id": "ETcsspPzlkQr"
      },
      "execution_count": null,
      "outputs": []
    },
    {
      "cell_type": "markdown",
      "source": [
        "Разделим наши данные на обучающую и тестовую части."
      ],
      "metadata": {
        "id": "aSkcV4u06z5T"
      }
    },
    {
      "cell_type": "code",
      "source": [
        "train_data, val_data = train_test_split(\n",
        "    train_df,\n",
        "    random_state=RANDOM_STATE,\n",
        "    test_size=0.2\n",
        "    )"
      ],
      "metadata": {
        "execution": {
          "iopub.status.busy": "2024-10-08T12:23:54.972084Z",
          "iopub.execute_input": "2024-10-08T12:23:54.972471Z",
          "iopub.status.idle": "2024-10-08T12:23:54.98585Z",
          "shell.execute_reply.started": "2024-10-08T12:23:54.972437Z",
          "shell.execute_reply": "2024-10-08T12:23:54.984809Z"
        },
        "trusted": true,
        "id": "Fw_kxB43lkQs"
      },
      "execution_count": null,
      "outputs": []
    },
    {
      "cell_type": "markdown",
      "source": [
        "# ruRoBERTa - дообучение"
      ],
      "metadata": {
        "id": "UTKJhQ4BlkQs"
      }
    },
    {
      "cell_type": "markdown",
      "source": [
        "Эксприментальным путём мы выявили модель, показывающую себя на пока что лучше остальных - это `ai-forever/ruRoberta-large`. Объявим токенизатор и создаим эмбеддинги из наших текстов."
      ],
      "metadata": {
        "id": "TNcOGjLQ3epI"
      }
    },
    {
      "cell_type": "code",
      "source": [
        "from transformers import RobertaTokenizer, RobertaForSequenceClassification\n",
        "\n",
        "\n",
        "tokenizer = RobertaTokenizer.from_pretrained(model_name)"
      ],
      "metadata": {
        "execution": {
          "iopub.status.busy": "2024-10-08T12:23:54.987527Z",
          "iopub.execute_input": "2024-10-08T12:23:54.987917Z",
          "iopub.status.idle": "2024-10-08T12:23:59.09174Z",
          "shell.execute_reply.started": "2024-10-08T12:23:54.987875Z",
          "shell.execute_reply": "2024-10-08T12:23:59.090723Z"
        },
        "trusted": true,
        "id": "0jjIJhTdlkQt"
      },
      "execution_count": null,
      "outputs": []
    },
    {
      "cell_type": "code",
      "source": [
        "class CustomDataset(torch.utils.data.Dataset):\n",
        "    def __init__(self, df, tokenizer, max_len, target_list):\n",
        "        self.tokenizer = tokenizer\n",
        "        self.df = df\n",
        "        self.text = list(df['text'])\n",
        "        self.max_len = max_len\n",
        "        self.targets = self.df[target_list].values\n",
        "\n",
        "    def __len__(self):\n",
        "        return len(self.text)\n",
        "\n",
        "    def __getitem__(self, index):\n",
        "        text = str(self.text[index])\n",
        "        text = \" \".join(text.split())\n",
        "\n",
        "        inputs = self.tokenizer.encode_plus(\n",
        "            text,\n",
        "            None,\n",
        "            add_special_tokens=True,\n",
        "            max_length=self.max_len,\n",
        "            padding='max_length',\n",
        "            return_token_type_ids=True,\n",
        "            truncation=True,\n",
        "            return_attention_mask=True,\n",
        "            return_tensors='pt'\n",
        "        )\n",
        "\n",
        "        item = {\n",
        "            'input_ids': inputs['input_ids'].flatten(),\n",
        "            'attention_mask': inputs['attention_mask'].flatten(),\n",
        "            'token_type_ids': inputs[\"token_type_ids\"].flatten(),\n",
        "            'text': text,\n",
        "            'targets': torch.FloatTensor(self.targets[index])\n",
        "        }\n",
        "\n",
        "        return item"
      ],
      "metadata": {
        "execution": {
          "iopub.status.busy": "2024-10-08T12:23:59.096191Z",
          "iopub.execute_input": "2024-10-08T12:23:59.097548Z",
          "iopub.status.idle": "2024-10-08T12:23:59.107139Z",
          "shell.execute_reply.started": "2024-10-08T12:23:59.097512Z",
          "shell.execute_reply": "2024-10-08T12:23:59.106253Z"
        },
        "trusted": true,
        "id": "ios_cBuQlkQu"
      },
      "execution_count": null,
      "outputs": []
    },
    {
      "cell_type": "code",
      "source": [
        "MAX_LEN = 128\n",
        "BATCH_SIZE = 32\n",
        "targets = [f'trend_id_res{i}' for i in range(50)]\n",
        "\n",
        "train_dataset = CustomDataset(train_data, tokenizer, MAX_LEN, targets)\n",
        "val_dataset = CustomDataset(val_data, tokenizer, MAX_LEN, targets)"
      ],
      "metadata": {
        "execution": {
          "iopub.status.busy": "2024-10-08T12:23:59.10854Z",
          "iopub.execute_input": "2024-10-08T12:23:59.108981Z",
          "iopub.status.idle": "2024-10-08T12:23:59.128309Z",
          "shell.execute_reply.started": "2024-10-08T12:23:59.108936Z",
          "shell.execute_reply": "2024-10-08T12:23:59.127429Z"
        },
        "trusted": true,
        "id": "AVHJjcB1lkQu"
      },
      "execution_count": null,
      "outputs": []
    },
    {
      "cell_type": "code",
      "source": [
        "train_data_loader = torch.utils.data.DataLoader(\n",
        "    train_dataset,\n",
        "    batch_size=BATCH_SIZE,\n",
        "    shuffle=True,\n",
        "    num_workers=0\n",
        ")\n",
        "\n",
        "\n",
        "val_data_loader = torch.utils.data.DataLoader(\n",
        "    val_dataset,\n",
        "    batch_size=BATCH_SIZE,\n",
        "    shuffle=False,\n",
        "    num_workers=0\n",
        ")"
      ],
      "metadata": {
        "execution": {
          "iopub.status.busy": "2024-10-08T12:23:59.129969Z",
          "iopub.execute_input": "2024-10-08T12:23:59.130368Z",
          "iopub.status.idle": "2024-10-08T12:23:59.136715Z",
          "shell.execute_reply.started": "2024-10-08T12:23:59.130327Z",
          "shell.execute_reply": "2024-10-08T12:23:59.135868Z"
        },
        "trusted": true,
        "id": "9s3Y4eO2lkQu"
      },
      "execution_count": null,
      "outputs": []
    },
    {
      "cell_type": "markdown",
      "source": [
        "Взгляним, как выглядят наши данные из датасета."
      ],
      "metadata": {
        "id": "z7ne_cZT3t-I"
      }
    },
    {
      "cell_type": "code",
      "source": [
        "next(iter(train_dataset))"
      ],
      "metadata": {
        "execution": {
          "iopub.status.busy": "2024-10-08T12:23:59.138174Z",
          "iopub.execute_input": "2024-10-08T12:23:59.138531Z",
          "iopub.status.idle": "2024-10-08T12:23:59.245522Z",
          "shell.execute_reply.started": "2024-10-08T12:23:59.138489Z",
          "shell.execute_reply": "2024-10-08T12:23:59.244576Z"
        },
        "trusted": true,
        "id": "hGiZVw1BlkQu"
      },
      "execution_count": null,
      "outputs": []
    },
    {
      "cell_type": "markdown",
      "source": [
        "Объявим наш класс для BERT и объявим выбранную модель."
      ],
      "metadata": {
        "id": "JrkX8fSg3y_3"
      }
    },
    {
      "cell_type": "code",
      "source": [
        "class BERTClass(torch.nn.Module):\n",
        "    def __init__(self):\n",
        "        super(BERTClass, self).__init__()\n",
        "\n",
        "        self.bert_model = RobertaForSequenceClassification.from_pretrained(\n",
        "            model_name,\n",
        "            return_dict=True,\n",
        "            problem_type='multi_label_classification',\n",
        "            num_labels=50\n",
        "        )\n",
        "\n",
        "    def forward(self, input_ids, attn_mask, token_type_ids):\n",
        "        output = self.bert_model(\n",
        "            input_ids,\n",
        "            attention_mask=attn_mask,\n",
        "            token_type_ids=token_type_ids\n",
        "        )\n",
        "\n",
        "        return output.logits\n",
        "\n",
        "model = BERTClass().to(device)"
      ],
      "metadata": {
        "execution": {
          "iopub.status.busy": "2024-10-08T12:23:59.246707Z",
          "iopub.execute_input": "2024-10-08T12:23:59.246996Z",
          "iopub.status.idle": "2024-10-08T12:24:06.712842Z",
          "shell.execute_reply.started": "2024-10-08T12:23:59.246964Z",
          "shell.execute_reply": "2024-10-08T12:24:06.71193Z"
        },
        "trusted": true,
        "id": "WGxqn3yBlkQx"
      },
      "execution_count": null,
      "outputs": []
    },
    {
      "cell_type": "markdown",
      "source": [
        "Зададим функцию потерь - Бинарную кросс-энтропию и оптимизатор - Адам. В ходе наблюдений выявлен оптимальный размер градиентного шага - 1e-5."
      ],
      "metadata": {
        "id": "rZJuR9wY37jI"
      }
    },
    {
      "cell_type": "code",
      "source": [
        "def loss_fn(outputs, targets):\n",
        "    '''Бинарная кросс-энтропия'''\n",
        "    return torch.nn.BCEWithLogitsLoss()(outputs, targets)"
      ],
      "metadata": {
        "execution": {
          "iopub.status.busy": "2024-10-08T12:24:06.714506Z",
          "iopub.execute_input": "2024-10-08T12:24:06.7149Z",
          "iopub.status.idle": "2024-10-08T12:24:06.721788Z",
          "shell.execute_reply.started": "2024-10-08T12:24:06.714856Z",
          "shell.execute_reply": "2024-10-08T12:24:06.719704Z"
        },
        "trusted": true,
        "id": "_k-bkiTclkQy"
      },
      "execution_count": null,
      "outputs": []
    },
    {
      "cell_type": "code",
      "source": [
        "from transformers import AdamW\n",
        "\n",
        "# экспериментальным путём определено оптимальное число эпох\n",
        "EPOCHS = 50\n",
        "optimizer = AdamW(model.parameters(), lr = 1e-5)"
      ],
      "metadata": {
        "execution": {
          "iopub.status.busy": "2024-10-08T12:24:06.722988Z",
          "iopub.execute_input": "2024-10-08T12:24:06.723642Z",
          "iopub.status.idle": "2024-10-08T12:24:07.555497Z",
          "shell.execute_reply.started": "2024-10-08T12:24:06.723585Z",
          "shell.execute_reply": "2024-10-08T12:24:07.554492Z"
        },
        "trusted": true,
        "id": "UAggYBFWlkQz"
      },
      "execution_count": null,
      "outputs": []
    },
    {
      "cell_type": "markdown",
      "source": [
        "Далее с помощью двух функций в ходе 50 эпох дообучим и составим валидацию модели."
      ],
      "metadata": {
        "id": "91pv48934I76"
      }
    },
    {
      "cell_type": "code",
      "source": [
        "def ecom_format(y):\n",
        "    '''Перевод y в формат соревнования ecom.tech'''\n",
        "    y = [' '.join(np.where(y[i] == 1)[0].astype(str).tolist()) for i in range(y.shape[0])]\n",
        "    return np.array(y)\n",
        "\n",
        "def train_model(training_loader, model, optimizer):\n",
        "    '''Дообучение модели'''\n",
        "    losses = []\n",
        "    correct_predictions = 0\n",
        "    num_samples = 0\n",
        "\n",
        "    model.train()\n",
        "\n",
        "    loop = tq.tqdm(\n",
        "        enumerate(training_loader),\n",
        "        total=len(training_loader),\n",
        "        leave=True,\n",
        "        colour='steelblue'\n",
        "    )\n",
        "\n",
        "    for batch_idx, data in loop:\n",
        "        ids = data['input_ids'].to(device, dtype = torch.long)\n",
        "        mask = data['attention_mask'].to(device, dtype = torch.long)\n",
        "        token_type_ids = data['token_type_ids'].to(device, dtype = torch.long)\n",
        "        targets = data['targets'].to(device, dtype = torch.float)\n",
        "\n",
        "        # forward\n",
        "        outputs = model(ids, mask, token_type_ids)\n",
        "        loss = loss_fn(outputs, targets)\n",
        "        losses.append(loss.item())\n",
        "\n",
        "        outputs = torch.sigmoid(outputs).cpu().detach().numpy()\n",
        "        outputs = (outputs >= 0.45).astype(float)\n",
        "\n",
        "        targets = targets.cpu().detach().numpy()\n",
        "\n",
        "        outputs = ecom_format(outputs)\n",
        "        targets = ecom_format(targets)\n",
        "\n",
        "        correct_predictions += np.sum(outputs==targets)\n",
        "        num_samples += targets.size\n",
        "\n",
        "        # backward\n",
        "        optimizer.zero_grad()\n",
        "        loss.backward()\n",
        "        nn.utils.clip_grad_norm_(model.parameters(), max_norm=1.0)\n",
        "        optimizer.step()\n",
        "\n",
        "    # returning: trained model, model accuracy, mean loss\n",
        "    return model, float(correct_predictions)/num_samples, np.mean(losses)"
      ],
      "metadata": {
        "execution": {
          "iopub.status.busy": "2024-10-08T12:24:07.556771Z",
          "iopub.execute_input": "2024-10-08T12:24:07.55724Z",
          "iopub.status.idle": "2024-10-08T12:24:07.568882Z",
          "shell.execute_reply.started": "2024-10-08T12:24:07.557204Z",
          "shell.execute_reply": "2024-10-08T12:24:07.567873Z"
        },
        "trusted": true,
        "id": "BNlq7w6llkQz"
      },
      "execution_count": null,
      "outputs": []
    },
    {
      "cell_type": "code",
      "source": [
        "def eval_model(validation_loader, model, optimizer):\n",
        "    '''Валидация модели'''\n",
        "    losses = []\n",
        "    correct_predictions = 0\n",
        "    num_samples = 0\n",
        "\n",
        "    model.eval()\n",
        "\n",
        "    with torch.no_grad():\n",
        "\n",
        "        for batch_idx, data in enumerate(validation_loader, 0):\n",
        "            ids = data['input_ids'].to(device, dtype = torch.long)\n",
        "            mask = data['attention_mask'].to(device, dtype = torch.long)\n",
        "            token_type_ids = data['token_type_ids'].to(device, dtype = torch.long)\n",
        "\n",
        "            targets = data['targets'].to(device, dtype = torch.float)\n",
        "            outputs = model(ids, mask, token_type_ids)\n",
        "\n",
        "            loss = loss_fn(outputs, targets)\n",
        "            losses.append(loss.item())\n",
        "\n",
        "            # validation accuracy\n",
        "            outputs = torch.sigmoid(outputs).cpu().detach().numpy()\n",
        "            outputs = (outputs >= 0.45).astype(float)\n",
        "            targets = targets.cpu().detach().numpy()\n",
        "\n",
        "            outputs = ecom_format(outputs)\n",
        "            targets = ecom_format(targets)\n",
        "            correct_predictions += np.sum(outputs==targets)\n",
        "            num_samples += targets.size\n",
        "\n",
        "    return float(correct_predictions)/num_samples, np.mean(losses)"
      ],
      "metadata": {
        "execution": {
          "iopub.status.busy": "2024-10-08T12:24:07.570424Z",
          "iopub.execute_input": "2024-10-08T12:24:07.570832Z",
          "iopub.status.idle": "2024-10-08T12:24:07.582582Z",
          "shell.execute_reply.started": "2024-10-08T12:24:07.570763Z",
          "shell.execute_reply": "2024-10-08T12:24:07.581661Z"
        },
        "trusted": true,
        "id": "VEO0QvKWlkQz"
      },
      "execution_count": null,
      "outputs": []
    },
    {
      "cell_type": "markdown",
      "source": [
        "Для лучшей наглядности обучения и контроля за временем импортируем библиотеку tqdm. Следующий код запускает дообучение модели."
      ],
      "metadata": {
        "id": "hcTtcZs-4RHf"
      }
    },
    {
      "cell_type": "markdown",
      "source": [
        "**Важно:** нужно задать имя для сохранения весов модели. Их потом стоит использовать в ходе составления прогнозов."
      ],
      "metadata": {
        "id": "Yw-GQW0V5Bdz"
      }
    },
    {
      "cell_type": "code",
      "source": [
        "from collections import defaultdict\n",
        "import tqdm.notebook as tq\n",
        "\n",
        "\n",
        "history = defaultdict(list)\n",
        "best_accuracy = 0\n",
        "\n",
        "for epoch in range(1, EPOCHS + 1):\n",
        "    print(f'Epoch {epoch}/{EPOCHS}')\n",
        "\n",
        "    model, train_acc, train_loss = train_model(\n",
        "        train_data_loader,\n",
        "        model,\n",
        "        optimizer\n",
        "        )\n",
        "\n",
        "    val_acc, val_loss = eval_model(\n",
        "        val_data_loader,\n",
        "        model,\n",
        "        optimizer\n",
        "        )\n",
        "\n",
        "    print(f'train_loss={train_loss:.4f}, \\\n",
        "            val_loss={val_loss:.4f}, \\\n",
        "            train_acc={train_acc:.4f}, \\\n",
        "            val_acc={val_acc:.4f}')\n",
        "\n",
        "    history['train_acc'].append(train_acc)\n",
        "    history['train_loss'].append(train_loss)\n",
        "    history['val_acc'].append(val_acc)\n",
        "    history['val_loss'].append(val_loss)\n",
        "\n",
        "    # save the best model\n",
        "    if val_acc > best_accuracy:\n",
        "        torch.save(model.state_dict(), \"/content/drive/MyDrive/ecom-tech/ruroberta-ecom-tech-best.pth\")\n",
        "        best_accuracy = val_acc"
      ],
      "metadata": {
        "execution": {
          "iopub.status.busy": "2024-10-08T12:24:07.583918Z",
          "iopub.execute_input": "2024-10-08T12:24:07.584382Z",
          "iopub.status.idle": "2024-10-08T12:26:40.573176Z",
          "shell.execute_reply.started": "2024-10-08T12:24:07.584299Z",
          "shell.execute_reply": "2024-10-08T12:26:40.572027Z"
        },
        "trusted": true,
        "id": "XEqUmtsmlkQ0"
      },
      "execution_count": null,
      "outputs": []
    },
    {
      "cell_type": "markdown",
      "source": [
        "# Валидация модели"
      ],
      "metadata": {
        "id": "AZeT8Q78lkQ0"
      }
    },
    {
      "cell_type": "markdown",
      "source": [
        "Ещё раз проведём валидацию модели и посмотрим, где модель больше всего ошибается, на каких классах."
      ],
      "metadata": {
        "id": "6UgPaIrn4etz"
      }
    },
    {
      "cell_type": "code",
      "source": [
        "from sklearn.metrics import confusion_matrix, classification_report"
      ],
      "metadata": {
        "execution": {
          "iopub.status.busy": "2024-10-08T12:26:40.574311Z",
          "iopub.execute_input": "2024-10-08T12:26:40.574743Z",
          "iopub.status.idle": "2024-10-08T12:26:40.581771Z",
          "shell.execute_reply.started": "2024-10-08T12:26:40.574693Z",
          "shell.execute_reply": "2024-10-08T12:26:40.580816Z"
        },
        "trusted": true,
        "id": "xJ7c2ntrlkQ0"
      },
      "execution_count": null,
      "outputs": []
    },
    {
      "cell_type": "code",
      "source": [
        "def get_predictions(model, data_loader):\n",
        "    '''Получение предсказаний на валидационных данных'''\n",
        "    model = model.eval()\n",
        "\n",
        "    texts = []\n",
        "    predictions = []\n",
        "    prediction_probs = []\n",
        "    target_values = []\n",
        "\n",
        "    with torch.no_grad():\n",
        "      for data in data_loader:\n",
        "        text = data[\"text\"]\n",
        "        ids = data[\"input_ids\"].to(device, dtype = torch.long)\n",
        "        mask = data[\"attention_mask\"].to(device, dtype = torch.long)\n",
        "        token_type_ids = data['token_type_ids'].to(device, dtype = torch.long)\n",
        "        targets = data[\"targets\"].to(device, dtype = torch.float)\n",
        "\n",
        "        outputs = model(ids, mask, token_type_ids)\n",
        "        outputs = torch.sigmoid(outputs).detach().cpu()\n",
        "\n",
        "        preds = outputs.round()\n",
        "        targets = targets.detach().cpu()\n",
        "\n",
        "        texts.extend(text)\n",
        "        predictions.extend(preds)\n",
        "        prediction_probs.extend(outputs)\n",
        "        target_values.extend(targets)\n",
        "\n",
        "    predictions = torch.stack(predictions)\n",
        "    prediction_probs = torch.stack(prediction_probs)\n",
        "    target_values = torch.stack(target_values)\n",
        "\n",
        "    return texts, predictions, prediction_probs, target_values"
      ],
      "metadata": {
        "execution": {
          "iopub.status.busy": "2024-10-08T12:26:40.583082Z",
          "iopub.execute_input": "2024-10-08T12:26:40.583465Z",
          "iopub.status.idle": "2024-10-08T12:26:40.599751Z",
          "shell.execute_reply.started": "2024-10-08T12:26:40.583422Z",
          "shell.execute_reply": "2024-10-08T12:26:40.598671Z"
        },
        "trusted": true,
        "id": "xzY4ZpsclkQ1"
      },
      "execution_count": null,
      "outputs": []
    },
    {
      "cell_type": "code",
      "source": [
        "texts, predictions, prediction_probs, target_values = get_predictions(model, val_data_loader)"
      ],
      "metadata": {
        "execution": {
          "iopub.status.busy": "2024-10-08T12:26:40.601085Z",
          "iopub.execute_input": "2024-10-08T12:26:40.601526Z",
          "iopub.status.idle": "2024-10-08T12:26:52.574195Z",
          "shell.execute_reply.started": "2024-10-08T12:26:40.60147Z",
          "shell.execute_reply": "2024-10-08T12:26:52.573143Z"
        },
        "trusted": true,
        "id": "w5bIAYPElkQ1"
      },
      "execution_count": null,
      "outputs": []
    },
    {
      "cell_type": "code",
      "source": [
        "print(classification_report(target_values, predictions, target_names=targets))"
      ],
      "metadata": {
        "execution": {
          "iopub.status.busy": "2024-10-08T12:26:52.575591Z",
          "iopub.execute_input": "2024-10-08T12:26:52.576037Z",
          "iopub.status.idle": "2024-10-08T12:26:52.598841Z",
          "shell.execute_reply.started": "2024-10-08T12:26:52.575988Z",
          "shell.execute_reply": "2024-10-08T12:26:52.59785Z"
        },
        "trusted": true,
        "id": "NB1EA6K6lkQ1"
      },
      "execution_count": null,
      "outputs": []
    },
    {
      "cell_type": "markdown",
      "source": [
        "# График ecom.tech accuracy"
      ],
      "metadata": {
        "id": "ORyzBpyalkQ2"
      }
    },
    {
      "cell_type": "markdown",
      "source": [
        "Посмотрим, как на тренировочных и валидационных данных менялся размер метрики, составленной в ходе соревнования."
      ],
      "metadata": {
        "id": "liCWXWoS4pq-"
      }
    },
    {
      "cell_type": "code",
      "source": [
        "import matplotlib.pyplot as plt"
      ],
      "metadata": {
        "execution": {
          "iopub.status.busy": "2024-10-08T12:26:52.600512Z",
          "iopub.execute_input": "2024-10-08T12:26:52.60093Z",
          "iopub.status.idle": "2024-10-08T12:26:52.605495Z",
          "shell.execute_reply.started": "2024-10-08T12:26:52.600885Z",
          "shell.execute_reply": "2024-10-08T12:26:52.604417Z"
        },
        "trusted": true,
        "id": "Fnk6Hc7qlkQ2"
      },
      "execution_count": null,
      "outputs": []
    },
    {
      "cell_type": "code",
      "source": [
        "plt.rcParams[\"figure.figsize\"] = (10,7)\n",
        "\n",
        "plt.plot(history['train_acc'], label='train accuracy')\n",
        "plt.plot(history['val_acc'], label='validation accuracy')\n",
        "\n",
        "plt.title('Training history')\n",
        "plt.ylabel('Accuracy')\n",
        "plt.xlabel('Epoch')\n",
        "\n",
        "plt.legend()\n",
        "plt.ylim([0, 1]);\n",
        "plt.grid()\n",
        "plt.show()"
      ],
      "metadata": {
        "execution": {
          "iopub.status.busy": "2024-10-08T12:26:52.606736Z",
          "iopub.execute_input": "2024-10-08T12:26:52.607083Z",
          "iopub.status.idle": "2024-10-08T12:26:52.875249Z",
          "shell.execute_reply.started": "2024-10-08T12:26:52.607041Z",
          "shell.execute_reply": "2024-10-08T12:26:52.874329Z"
        },
        "trusted": true,
        "id": "_ipTJYdTlkQ2"
      },
      "execution_count": null,
      "outputs": []
    },
    {
      "cell_type": "markdown",
      "source": [
        "# Сохранение последней модели"
      ],
      "metadata": {
        "id": "4IgQWDU5lkQ2"
      }
    },
    {
      "cell_type": "markdown",
      "source": [
        "На всякий случай сохраним последнюю модель.\n",
        "**Важно:** нужно задать имя для сохранения весов модели. Если нет желания сохранять последнюю модель, то просьба прокомментировать этот код решёткой."
      ],
      "metadata": {
        "id": "XavpEinY4wn4"
      }
    },
    {
      "cell_type": "code",
      "source": [
        "torch.save(model.state_dict(), \"/content/drive/MyDrive/ecom-tech/ruroberta-ecom-tech-last.pth\")"
      ],
      "metadata": {
        "execution": {
          "iopub.status.busy": "2024-10-08T12:26:52.877082Z",
          "iopub.execute_input": "2024-10-08T12:26:52.877574Z",
          "iopub.status.idle": "2024-10-08T12:26:54.722814Z",
          "shell.execute_reply.started": "2024-10-08T12:26:52.877528Z",
          "shell.execute_reply": "2024-10-08T12:26:54.721954Z"
        },
        "trusted": true,
        "id": "xDxzaw3plkQ2"
      },
      "execution_count": null,
      "outputs": []
    },
    {
      "cell_type": "markdown",
      "source": [
        "# Итого"
      ],
      "metadata": {
        "id": "N8SYIzUl6pia"
      }
    },
    {
      "cell_type": "markdown",
      "source": [
        "Чтобы не загружать один ноутбук и дообучением, и прогнозами, было принято решение разделить ноутбук на две части. Ноутбук `Samoilov Vadim ecom.tech NLP Prediction` использовавлся для выполнения предсказаний, которые затем заливались на воркшоп. Просьба пройти в данный ноутбук и быть готовым загрузить туда полученную модель - по дефолту она имеет название `ruroberta-ecom-tech-best.pth`."
      ],
      "metadata": {
        "id": "OJwzBucx55qN"
      }
    },
    {
      "cell_type": "markdown",
      "source": [
        "Благодарю за уделённое время моей работе! Увидимся во второй части - `Samoilov Vadim ecom.tech NLP Prediction`!\n"
      ],
      "metadata": {
        "id": "IUm3kjnr6bF8"
      }
    }
  ]
}