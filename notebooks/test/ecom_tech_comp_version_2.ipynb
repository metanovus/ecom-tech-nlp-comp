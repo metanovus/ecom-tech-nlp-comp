{
  "cells": [
    {
      "cell_type": "markdown",
      "id": "e62c7d70",
      "metadata": {
        "id": "e62c7d70",
        "papermill": {
          "duration": 0.0682,
          "end_time": "2024-10-29T05:14:34.525391",
          "exception": false,
          "start_time": "2024-10-29T05:14:34.457191",
          "status": "completed"
        },
        "tags": []
      },
      "source": [
        "## ecom.tech ноутбук к соревнованию по NLP-задачи мульти-лейбл классификации отзывов о доставке. Часть 1 - Дообучение модели и получение весов"
      ]
    },
    {
      "cell_type": "markdown",
      "id": "2ebd60c3",
      "metadata": {
        "id": "2ebd60c3",
        "papermill": {
          "duration": 0.065719,
          "end_time": "2024-10-29T05:14:34.657328",
          "exception": false,
          "start_time": "2024-10-29T05:14:34.591609",
          "status": "completed"
        },
        "tags": []
      },
      "source": [
        "![image.jpeg](data:image/jpeg;base64,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)"
      ]
    },
    {
      "cell_type": "markdown",
      "id": "75a7eda8",
      "metadata": {
        "id": "75a7eda8",
        "papermill": {
          "duration": 0.067421,
          "end_time": "2024-10-29T05:14:34.790578",
          "exception": false,
          "start_time": "2024-10-29T05:14:34.723157",
          "status": "completed"
        },
        "tags": []
      },
      "source": [
        "**Важно!**"
      ]
    },
    {
      "cell_type": "markdown",
      "id": "0ebc482b",
      "metadata": {
        "id": "0ebc482b",
        "papermill": {
          "duration": 0.065264,
          "end_time": "2024-10-29T05:14:34.921261",
          "exception": false,
          "start_time": "2024-10-29T05:14:34.855997",
          "status": "completed"
        },
        "tags": []
      },
      "source": [
        "Обязательно изменить пути к тренировочным данным и файлу с описанием классов - пункт ноутбука `Обработка данных`. Далее обязательно изменить путь сохранения весов модели, особенно критически это касается `best`-версии - именно она будет использоваться для составления прогнозов."
      ]
    },
    {
      "cell_type": "markdown",
      "id": "52a58412",
      "metadata": {
        "id": "52a58412",
        "papermill": {
          "duration": 0.06661,
          "end_time": "2024-10-29T05:14:35.054354",
          "exception": false,
          "start_time": "2024-10-29T05:14:34.987744",
          "status": "completed"
        },
        "tags": []
      },
      "source": [
        "Не стоит сразу же нажимать на `Выполнить всё`. Советую выполнять ячейки поэтапно, попутно читая всю информацию. Спасибо."
      ]
    },
    {
      "cell_type": "markdown",
      "id": "6993d174",
      "metadata": {
        "id": "6993d174",
        "papermill": {
          "duration": 0.066782,
          "end_time": "2024-10-29T05:14:35.187686",
          "exception": false,
          "start_time": "2024-10-29T05:14:35.120904",
          "status": "completed"
        },
        "tags": []
      },
      "source": [
        "# Импорт библиотек"
      ]
    },
    {
      "cell_type": "code",
      "execution_count": null,
      "id": "cd808e00",
      "metadata": {
        "execution": {
          "iopub.execute_input": "2024-10-29T05:14:35.324309Z",
          "iopub.status.busy": "2024-10-29T05:14:35.323864Z",
          "iopub.status.idle": "2024-10-29T05:14:40.734866Z",
          "shell.execute_reply": "2024-10-29T05:14:40.734025Z"
        },
        "id": "cd808e00",
        "papermill": {
          "duration": 5.481227,
          "end_time": "2024-10-29T05:14:40.737166",
          "exception": false,
          "start_time": "2024-10-29T05:14:35.255939",
          "status": "completed"
        },
        "tags": []
      },
      "outputs": [],
      "source": [
        "import pandas as pd\n",
        "import torch\n",
        "import torch.nn as nn\n",
        "import numpy as np\n",
        "import warnings\n",
        "import os\n",
        "import random\n",
        "\n",
        "from sklearn.model_selection import train_test_split\n",
        "\n",
        "RANDOM_STATE = 42\n",
        "warnings.filterwarnings('ignore')\n",
        "device = torch.device('cuda') if torch.cuda.is_available() else torch.device('cpu')\n",
        "model_name = 'ai-forever/ruRoberta-large'"
      ]
    },
    {
      "cell_type": "code",
      "execution_count": null,
      "id": "057c9171",
      "metadata": {
        "execution": {
          "iopub.execute_input": "2024-10-29T05:14:40.872443Z",
          "iopub.status.busy": "2024-10-29T05:14:40.871581Z",
          "iopub.status.idle": "2024-10-29T05:14:40.883340Z",
          "shell.execute_reply": "2024-10-29T05:14:40.882208Z"
        },
        "id": "057c9171",
        "outputId": "038a2cbe-ad11-40c6-aad9-a0802c779728",
        "papermill": {
          "duration": 0.08059,
          "end_time": "2024-10-29T05:14:40.885376",
          "exception": false,
          "start_time": "2024-10-29T05:14:40.804786",
          "status": "completed"
        },
        "tags": []
      },
      "outputs": [
        {
          "name": "stdout",
          "output_type": "stream",
          "text": [
            "Random seed set as 42\n"
          ]
        }
      ],
      "source": [
        "def set_seed(seed):\n",
        "    '''Зафиксируем случайности'''\n",
        "    np.random.seed(seed)\n",
        "    random.seed(seed)\n",
        "    torch.manual_seed(seed)\n",
        "    torch.cuda.manual_seed(seed)\n",
        "    torch.backends.cudnn.deterministic = True\n",
        "    torch.backends.cudnn.benchmark = False\n",
        "    os.environ[\"PYTHONHASHSEED\"] = str(seed)\n",
        "    print(f\"Random seed set as {seed}\")\n",
        "\n",
        "set_seed(RANDOM_STATE)"
      ]
    },
    {
      "cell_type": "markdown",
      "id": "31ceac11",
      "metadata": {
        "id": "31ceac11",
        "papermill": {
          "duration": 0.065907,
          "end_time": "2024-10-29T05:14:41.017622",
          "exception": false,
          "start_time": "2024-10-29T05:14:40.951715",
          "status": "completed"
        },
        "tags": []
      },
      "source": [
        "# Подготовка данных"
      ]
    },
    {
      "cell_type": "markdown",
      "id": "6ced4ea1",
      "metadata": {
        "id": "6ced4ea1",
        "papermill": {
          "duration": 0.067142,
          "end_time": "2024-10-29T05:14:41.152420",
          "exception": false,
          "start_time": "2024-10-29T05:14:41.085278",
          "status": "completed"
        },
        "tags": []
      },
      "source": [
        "**Памятка**: просьба сменить пути к файлам описания классов (`trends_description.csv`) и файл с тренировочными данными (`train.csv`), иначе случится ошибка."
      ]
    },
    {
      "cell_type": "code",
      "execution_count": null,
      "id": "b4fcfb49",
      "metadata": {
        "execution": {
          "iopub.execute_input": "2024-10-29T05:14:41.330854Z",
          "iopub.status.busy": "2024-10-29T05:14:41.330445Z",
          "iopub.status.idle": "2024-10-29T05:14:41.351682Z",
          "shell.execute_reply": "2024-10-29T05:14:41.350856Z"
        },
        "id": "b4fcfb49",
        "papermill": {
          "duration": 0.134122,
          "end_time": "2024-10-29T05:14:41.353951",
          "exception": false,
          "start_time": "2024-10-29T05:14:41.219829",
          "status": "completed"
        },
        "tags": []
      },
      "outputs": [],
      "source": [
        "descrs = pd.read_csv('/kaggle/input/ecom-tech-dataset-text-multi-label-classification/trends_description.csv.csv')"
      ]
    },
    {
      "cell_type": "code",
      "execution_count": null,
      "id": "e814e69b",
      "metadata": {
        "execution": {
          "iopub.execute_input": "2024-10-29T05:14:41.489691Z",
          "iopub.status.busy": "2024-10-29T05:14:41.488837Z",
          "iopub.status.idle": "2024-10-29T05:14:41.566183Z",
          "shell.execute_reply": "2024-10-29T05:14:41.565169Z"
        },
        "id": "e814e69b",
        "papermill": {
          "duration": 0.146967,
          "end_time": "2024-10-29T05:14:41.568888",
          "exception": false,
          "start_time": "2024-10-29T05:14:41.421921",
          "status": "completed"
        },
        "tags": []
      },
      "outputs": [],
      "source": [
        "train_df = pd.read_csv(\n",
        "    '/kaggle/input/ecom-tech-dataset-text-multi-label-classification/train.csv.csv'\n",
        "    ).drop(['assessment', 'Unnamed: 0', 'index', 'tags'], axis=1)"
      ]
    },
    {
      "cell_type": "code",
      "execution_count": null,
      "id": "bee72948",
      "metadata": {
        "execution": {
          "iopub.execute_input": "2024-10-29T05:14:41.705618Z",
          "iopub.status.busy": "2024-10-29T05:14:41.704780Z",
          "iopub.status.idle": "2024-10-29T05:14:41.720849Z",
          "shell.execute_reply": "2024-10-29T05:14:41.720011Z"
        },
        "id": "bee72948",
        "papermill": {
          "duration": 0.085989,
          "end_time": "2024-10-29T05:14:41.723012",
          "exception": false,
          "start_time": "2024-10-29T05:14:41.637023",
          "status": "completed"
        },
        "tags": []
      },
      "outputs": [],
      "source": [
        "train_df[[f'trend_id_res{i}' for i in range(50)]] = train_df[[f'trend_id_res{i}' for i in range(50)]].astype(bool)\n",
        "train_df['text'] = train_df['text'].astype(str)"
      ]
    },
    {
      "cell_type": "code",
      "execution_count": null,
      "id": "a1d85bd5",
      "metadata": {
        "execution": {
          "iopub.execute_input": "2024-10-29T05:14:41.859777Z",
          "iopub.status.busy": "2024-10-29T05:14:41.859384Z",
          "iopub.status.idle": "2024-10-29T05:14:41.887953Z",
          "shell.execute_reply": "2024-10-29T05:14:41.887036Z"
        },
        "id": "a1d85bd5",
        "outputId": "54271065-d287-4d0d-8f2f-32f98acc3e09",
        "papermill": {
          "duration": 0.098162,
          "end_time": "2024-10-29T05:14:41.890024",
          "exception": false,
          "start_time": "2024-10-29T05:14:41.791862",
          "status": "completed"
        },
        "tags": []
      },
      "outputs": [
        {
          "data": {
            "text/html": [
              "<div>\n",
              "<style scoped>\n",
              "    .dataframe tbody tr th:only-of-type {\n",
              "        vertical-align: middle;\n",
              "    }\n",
              "\n",
              "    .dataframe tbody tr th {\n",
              "        vertical-align: top;\n",
              "    }\n",
              "\n",
              "    .dataframe thead th {\n",
              "        text-align: right;\n",
              "    }\n",
              "</style>\n",
              "<table border=\"1\" class=\"dataframe\">\n",
              "  <thead>\n",
              "    <tr style=\"text-align: right;\">\n",
              "      <th></th>\n",
              "      <th>text</th>\n",
              "      <th>trend_id_res0</th>\n",
              "      <th>trend_id_res1</th>\n",
              "      <th>trend_id_res2</th>\n",
              "      <th>trend_id_res3</th>\n",
              "      <th>trend_id_res4</th>\n",
              "      <th>trend_id_res5</th>\n",
              "      <th>trend_id_res6</th>\n",
              "      <th>trend_id_res7</th>\n",
              "      <th>trend_id_res8</th>\n",
              "      <th>...</th>\n",
              "      <th>trend_id_res40</th>\n",
              "      <th>trend_id_res41</th>\n",
              "      <th>trend_id_res42</th>\n",
              "      <th>trend_id_res43</th>\n",
              "      <th>trend_id_res44</th>\n",
              "      <th>trend_id_res45</th>\n",
              "      <th>trend_id_res46</th>\n",
              "      <th>trend_id_res47</th>\n",
              "      <th>trend_id_res48</th>\n",
              "      <th>trend_id_res49</th>\n",
              "    </tr>\n",
              "  </thead>\n",
              "  <tbody>\n",
              "    <tr>\n",
              "      <th>0</th>\n",
              "      <td>Маленький выбор товаров, хотелось бы ассортиме...</td>\n",
              "      <td>False</td>\n",
              "      <td>False</td>\n",
              "      <td>False</td>\n",
              "      <td>False</td>\n",
              "      <td>False</td>\n",
              "      <td>False</td>\n",
              "      <td>False</td>\n",
              "      <td>False</td>\n",
              "      <td>False</td>\n",
              "      <td>...</td>\n",
              "      <td>False</td>\n",
              "      <td>False</td>\n",
              "      <td>False</td>\n",
              "      <td>False</td>\n",
              "      <td>False</td>\n",
              "      <td>False</td>\n",
              "      <td>False</td>\n",
              "      <td>False</td>\n",
              "      <td>False</td>\n",
              "      <td>False</td>\n",
              "    </tr>\n",
              "    <tr>\n",
              "      <th>1</th>\n",
              "      <td>Быстро</td>\n",
              "      <td>False</td>\n",
              "      <td>False</td>\n",
              "      <td>False</td>\n",
              "      <td>False</td>\n",
              "      <td>False</td>\n",
              "      <td>False</td>\n",
              "      <td>False</td>\n",
              "      <td>False</td>\n",
              "      <td>False</td>\n",
              "      <td>...</td>\n",
              "      <td>False</td>\n",
              "      <td>False</td>\n",
              "      <td>False</td>\n",
              "      <td>False</td>\n",
              "      <td>False</td>\n",
              "      <td>False</td>\n",
              "      <td>False</td>\n",
              "      <td>False</td>\n",
              "      <td>False</td>\n",
              "      <td>False</td>\n",
              "    </tr>\n",
              "    <tr>\n",
              "      <th>2</th>\n",
              "      <td>Доставка постоянно задерживается</td>\n",
              "      <td>False</td>\n",
              "      <td>False</td>\n",
              "      <td>False</td>\n",
              "      <td>True</td>\n",
              "      <td>False</td>\n",
              "      <td>False</td>\n",
              "      <td>False</td>\n",
              "      <td>False</td>\n",
              "      <td>False</td>\n",
              "      <td>...</td>\n",
              "      <td>False</td>\n",
              "      <td>False</td>\n",
              "      <td>False</td>\n",
              "      <td>False</td>\n",
              "      <td>False</td>\n",
              "      <td>False</td>\n",
              "      <td>False</td>\n",
              "      <td>False</td>\n",
              "      <td>False</td>\n",
              "      <td>False</td>\n",
              "    </tr>\n",
              "    <tr>\n",
              "      <th>3</th>\n",
              "      <td>Наценка и ассортимент расстраивают</td>\n",
              "      <td>False</td>\n",
              "      <td>False</td>\n",
              "      <td>False</td>\n",
              "      <td>False</td>\n",
              "      <td>False</td>\n",
              "      <td>False</td>\n",
              "      <td>False</td>\n",
              "      <td>False</td>\n",
              "      <td>False</td>\n",
              "      <td>...</td>\n",
              "      <td>False</td>\n",
              "      <td>False</td>\n",
              "      <td>False</td>\n",
              "      <td>False</td>\n",
              "      <td>False</td>\n",
              "      <td>False</td>\n",
              "      <td>False</td>\n",
              "      <td>False</td>\n",
              "      <td>False</td>\n",
              "      <td>False</td>\n",
              "    </tr>\n",
              "    <tr>\n",
              "      <th>4</th>\n",
              "      <td>Можно немного скинуть минимальную сумму заказа...</td>\n",
              "      <td>False</td>\n",
              "      <td>False</td>\n",
              "      <td>False</td>\n",
              "      <td>False</td>\n",
              "      <td>False</td>\n",
              "      <td>False</td>\n",
              "      <td>False</td>\n",
              "      <td>False</td>\n",
              "      <td>True</td>\n",
              "      <td>...</td>\n",
              "      <td>False</td>\n",
              "      <td>False</td>\n",
              "      <td>False</td>\n",
              "      <td>False</td>\n",
              "      <td>False</td>\n",
              "      <td>False</td>\n",
              "      <td>False</td>\n",
              "      <td>False</td>\n",
              "      <td>False</td>\n",
              "      <td>False</td>\n",
              "    </tr>\n",
              "  </tbody>\n",
              "</table>\n",
              "<p>5 rows × 51 columns</p>\n",
              "</div>"
            ],
            "text/plain": [
              "                                                text  trend_id_res0  \\\n",
              "0  Маленький выбор товаров, хотелось бы ассортиме...          False   \n",
              "1                                             Быстро          False   \n",
              "2                   Доставка постоянно задерживается          False   \n",
              "3                 Наценка и ассортимент расстраивают          False   \n",
              "4  Можно немного скинуть минимальную сумму заказа...          False   \n",
              "\n",
              "   trend_id_res1  trend_id_res2  trend_id_res3  trend_id_res4  trend_id_res5  \\\n",
              "0          False          False          False          False          False   \n",
              "1          False          False          False          False          False   \n",
              "2          False          False           True          False          False   \n",
              "3          False          False          False          False          False   \n",
              "4          False          False          False          False          False   \n",
              "\n",
              "   trend_id_res6  trend_id_res7  trend_id_res8  ...  trend_id_res40  \\\n",
              "0          False          False          False  ...           False   \n",
              "1          False          False          False  ...           False   \n",
              "2          False          False          False  ...           False   \n",
              "3          False          False          False  ...           False   \n",
              "4          False          False           True  ...           False   \n",
              "\n",
              "   trend_id_res41  trend_id_res42  trend_id_res43  trend_id_res44  \\\n",
              "0           False           False           False           False   \n",
              "1           False           False           False           False   \n",
              "2           False           False           False           False   \n",
              "3           False           False           False           False   \n",
              "4           False           False           False           False   \n",
              "\n",
              "   trend_id_res45  trend_id_res46  trend_id_res47  trend_id_res48  \\\n",
              "0           False           False           False           False   \n",
              "1           False           False           False           False   \n",
              "2           False           False           False           False   \n",
              "3           False           False           False           False   \n",
              "4           False           False           False           False   \n",
              "\n",
              "   trend_id_res49  \n",
              "0           False  \n",
              "1           False  \n",
              "2           False  \n",
              "3           False  \n",
              "4           False  \n",
              "\n",
              "[5 rows x 51 columns]"
            ]
          },
          "execution_count": 6,
          "metadata": {},
          "output_type": "execute_result"
        }
      ],
      "source": [
        "train_df.head()"
      ]
    },
    {
      "cell_type": "markdown",
      "id": "34cbd39a",
      "metadata": {
        "id": "34cbd39a",
        "papermill": {
          "duration": 0.067001,
          "end_time": "2024-10-29T05:14:42.024960",
          "exception": false,
          "start_time": "2024-10-29T05:14:41.957959",
          "status": "completed"
        },
        "tags": []
      },
      "source": [
        "Разделим наши данные на обучающую и тестовую части."
      ]
    },
    {
      "cell_type": "code",
      "execution_count": null,
      "id": "f238e26c",
      "metadata": {
        "execution": {
          "iopub.execute_input": "2024-10-29T05:14:42.160031Z",
          "iopub.status.busy": "2024-10-29T05:14:42.159302Z",
          "iopub.status.idle": "2024-10-29T05:14:42.171405Z",
          "shell.execute_reply": "2024-10-29T05:14:42.170422Z"
        },
        "id": "f238e26c",
        "papermill": {
          "duration": 0.0817,
          "end_time": "2024-10-29T05:14:42.173403",
          "exception": false,
          "start_time": "2024-10-29T05:14:42.091703",
          "status": "completed"
        },
        "tags": []
      },
      "outputs": [],
      "source": [
        "train_data, val_data = train_test_split(\n",
        "    train_df,\n",
        "    random_state=RANDOM_STATE,\n",
        "    test_size=0.2\n",
        "    )"
      ]
    },
    {
      "cell_type": "markdown",
      "id": "4bf4f42f",
      "metadata": {
        "id": "4bf4f42f",
        "papermill": {
          "duration": 0.066178,
          "end_time": "2024-10-29T05:14:42.306203",
          "exception": false,
          "start_time": "2024-10-29T05:14:42.240025",
          "status": "completed"
        },
        "tags": []
      },
      "source": [
        "# ruRoBERTa - дообучение"
      ]
    },
    {
      "cell_type": "markdown",
      "id": "2db62678",
      "metadata": {
        "id": "2db62678",
        "papermill": {
          "duration": 0.067018,
          "end_time": "2024-10-29T05:14:42.440135",
          "exception": false,
          "start_time": "2024-10-29T05:14:42.373117",
          "status": "completed"
        },
        "tags": []
      },
      "source": [
        "Эксприментальным путём мы выявили модель, показывающую себя на пока что лучше остальных - это `ai-forever/ruRoberta-large`. Объявим токенизатор и создаим эмбеддинги из наших текстов."
      ]
    },
    {
      "cell_type": "code",
      "execution_count": null,
      "id": "c42cb18e",
      "metadata": {
        "execution": {
          "iopub.execute_input": "2024-10-29T05:14:42.575346Z",
          "iopub.status.busy": "2024-10-29T05:14:42.574969Z",
          "iopub.status.idle": "2024-10-29T05:14:46.473407Z",
          "shell.execute_reply": "2024-10-29T05:14:46.472398Z"
        },
        "id": "c42cb18e",
        "outputId": "0c2622b6-1ea9-4afc-875b-0d2673da368f",
        "papermill": {
          "duration": 3.969101,
          "end_time": "2024-10-29T05:14:46.476049",
          "exception": false,
          "start_time": "2024-10-29T05:14:42.506948",
          "status": "completed"
        },
        "tags": [],
        "colab": {
          "referenced_widgets": [
            "5a7cce03fcef48f483712468b3c4bab0",
            "01c21c28692249978dc2e7d6c24e3cb9",
            "62b30ac0e06d47cbbec152595582565f"
          ]
        }
      },
      "outputs": [
        {
          "data": {
            "application/vnd.jupyter.widget-view+json": {
              "model_id": "5a7cce03fcef48f483712468b3c4bab0",
              "version_major": 2,
              "version_minor": 0
            },
            "text/plain": [
              "vocab.json:   0%|          | 0.00/1.81M [00:00<?, ?B/s]"
            ]
          },
          "metadata": {},
          "output_type": "display_data"
        },
        {
          "data": {
            "application/vnd.jupyter.widget-view+json": {
              "model_id": "01c21c28692249978dc2e7d6c24e3cb9",
              "version_major": 2,
              "version_minor": 0
            },
            "text/plain": [
              "merges.txt:   0%|          | 0.00/1.37M [00:00<?, ?B/s]"
            ]
          },
          "metadata": {},
          "output_type": "display_data"
        },
        {
          "data": {
            "application/vnd.jupyter.widget-view+json": {
              "model_id": "62b30ac0e06d47cbbec152595582565f",
              "version_major": 2,
              "version_minor": 0
            },
            "text/plain": [
              "config.json:   0%|          | 0.00/674 [00:00<?, ?B/s]"
            ]
          },
          "metadata": {},
          "output_type": "display_data"
        }
      ],
      "source": [
        "from transformers import RobertaTokenizer, RobertaForSequenceClassification\n",
        "\n",
        "\n",
        "tokenizer = RobertaTokenizer.from_pretrained(model_name)"
      ]
    },
    {
      "cell_type": "code",
      "execution_count": null,
      "id": "7300994b",
      "metadata": {
        "execution": {
          "iopub.execute_input": "2024-10-29T05:14:46.619638Z",
          "iopub.status.busy": "2024-10-29T05:14:46.618777Z",
          "iopub.status.idle": "2024-10-29T05:14:46.629154Z",
          "shell.execute_reply": "2024-10-29T05:14:46.628252Z"
        },
        "id": "7300994b",
        "papermill": {
          "duration": 0.085474,
          "end_time": "2024-10-29T05:14:46.631087",
          "exception": false,
          "start_time": "2024-10-29T05:14:46.545613",
          "status": "completed"
        },
        "tags": []
      },
      "outputs": [],
      "source": [
        "class CustomDataset(torch.utils.data.Dataset):\n",
        "    def __init__(self, df, tokenizer, max_len, target_list):\n",
        "        self.tokenizer = tokenizer\n",
        "        self.df = df\n",
        "        self.text = list(df['text'])\n",
        "        self.max_len = max_len\n",
        "        self.targets = self.df[target_list].values\n",
        "\n",
        "    def __len__(self):\n",
        "        return len(self.text)\n",
        "\n",
        "    def __getitem__(self, index):\n",
        "        text = str(self.text[index])\n",
        "        text = \" \".join(text.split())\n",
        "\n",
        "        inputs = self.tokenizer.encode_plus(\n",
        "            text,\n",
        "            None,\n",
        "            add_special_tokens=True,\n",
        "            max_length=self.max_len,\n",
        "            padding='max_length',\n",
        "            return_token_type_ids=True,\n",
        "            truncation=True,\n",
        "            return_attention_mask=True,\n",
        "            return_tensors='pt'\n",
        "        )\n",
        "\n",
        "        item = {\n",
        "            'input_ids': inputs['input_ids'].flatten(),\n",
        "            'attention_mask': inputs['attention_mask'].flatten(),\n",
        "            'token_type_ids': inputs[\"token_type_ids\"].flatten(),\n",
        "            'text': text,\n",
        "            'targets': torch.FloatTensor(self.targets[index])\n",
        "        }\n",
        "\n",
        "        return item"
      ]
    },
    {
      "cell_type": "code",
      "execution_count": null,
      "id": "d65cf4ea",
      "metadata": {
        "execution": {
          "iopub.execute_input": "2024-10-29T05:14:46.767190Z",
          "iopub.status.busy": "2024-10-29T05:14:46.766280Z",
          "iopub.status.idle": "2024-10-29T05:14:46.779693Z",
          "shell.execute_reply": "2024-10-29T05:14:46.778524Z"
        },
        "id": "d65cf4ea",
        "papermill": {
          "duration": 0.08351,
          "end_time": "2024-10-29T05:14:46.781814",
          "exception": false,
          "start_time": "2024-10-29T05:14:46.698304",
          "status": "completed"
        },
        "tags": []
      },
      "outputs": [],
      "source": [
        "MAX_LEN = 128\n",
        "BATCH_SIZE = 32\n",
        "targets = [f'trend_id_res{i}' for i in range(50)]\n",
        "\n",
        "train_dataset = CustomDataset(train_data, tokenizer, MAX_LEN, targets)\n",
        "val_dataset = CustomDataset(val_data, tokenizer, MAX_LEN, targets)"
      ]
    },
    {
      "cell_type": "code",
      "execution_count": null,
      "id": "a36eb6c0",
      "metadata": {
        "execution": {
          "iopub.execute_input": "2024-10-29T05:14:46.919085Z",
          "iopub.status.busy": "2024-10-29T05:14:46.918234Z",
          "iopub.status.idle": "2024-10-29T05:14:46.923723Z",
          "shell.execute_reply": "2024-10-29T05:14:46.922808Z"
        },
        "id": "a36eb6c0",
        "papermill": {
          "duration": 0.07553,
          "end_time": "2024-10-29T05:14:46.925780",
          "exception": false,
          "start_time": "2024-10-29T05:14:46.850250",
          "status": "completed"
        },
        "tags": []
      },
      "outputs": [],
      "source": [
        "train_data_loader = torch.utils.data.DataLoader(\n",
        "    train_dataset,\n",
        "    batch_size=BATCH_SIZE,\n",
        "    shuffle=True,\n",
        "    num_workers=0\n",
        ")\n",
        "\n",
        "\n",
        "val_data_loader = torch.utils.data.DataLoader(\n",
        "    val_dataset,\n",
        "    batch_size=BATCH_SIZE,\n",
        "    shuffle=False,\n",
        "    num_workers=0\n",
        ")"
      ]
    },
    {
      "cell_type": "markdown",
      "id": "bdbb3a0a",
      "metadata": {
        "id": "bdbb3a0a",
        "papermill": {
          "duration": 0.066173,
          "end_time": "2024-10-29T05:14:47.058572",
          "exception": false,
          "start_time": "2024-10-29T05:14:46.992399",
          "status": "completed"
        },
        "tags": []
      },
      "source": [
        "Взгляним, как выглядят наши данные из датасета."
      ]
    },
    {
      "cell_type": "code",
      "execution_count": null,
      "id": "08120050",
      "metadata": {
        "execution": {
          "iopub.execute_input": "2024-10-29T05:14:47.194031Z",
          "iopub.status.busy": "2024-10-29T05:14:47.193154Z",
          "iopub.status.idle": "2024-10-29T05:14:47.290696Z",
          "shell.execute_reply": "2024-10-29T05:14:47.289672Z"
        },
        "id": "08120050",
        "outputId": "63f9cfa8-3402-45c5-be98-6a39b3f6aded",
        "papermill": {
          "duration": 0.167357,
          "end_time": "2024-10-29T05:14:47.292965",
          "exception": false,
          "start_time": "2024-10-29T05:14:47.125608",
          "status": "completed"
        },
        "tags": []
      },
      "outputs": [
        {
          "data": {
            "text/plain": [
              "{'input_ids': tensor([    1,  5560,    16,   451,  3362,    50, 25602,    65,   283,    18,\n",
              "           289,  3362,    50, 25602,    65,  1003,    18,   664,  2007,  1528,\n",
              "           332,  3634,  4777,  4789,  1011, 36142,    16,  3009,  7219,     2,\n",
              "             0,     0,     0,     0,     0,     0,     0,     0,     0,     0,\n",
              "             0,     0,     0,     0,     0,     0,     0,     0,     0,     0,\n",
              "             0,     0,     0,     0,     0,     0,     0,     0,     0,     0,\n",
              "             0,     0,     0,     0,     0,     0,     0,     0,     0,     0,\n",
              "             0,     0,     0,     0,     0,     0,     0,     0,     0,     0,\n",
              "             0,     0,     0,     0,     0,     0,     0,     0,     0,     0,\n",
              "             0,     0,     0,     0,     0,     0,     0,     0,     0,     0,\n",
              "             0,     0,     0,     0,     0,     0,     0,     0,     0,     0,\n",
              "             0,     0,     0,     0,     0,     0,     0,     0,     0,     0,\n",
              "             0,     0,     0,     0,     0,     0,     0,     0]),\n",
              " 'attention_mask': tensor([1, 1, 1, 1, 1, 1, 1, 1, 1, 1, 1, 1, 1, 1, 1, 1, 1, 1, 1, 1, 1, 1, 1, 1,\n",
              "         1, 1, 1, 1, 1, 1, 0, 0, 0, 0, 0, 0, 0, 0, 0, 0, 0, 0, 0, 0, 0, 0, 0, 0,\n",
              "         0, 0, 0, 0, 0, 0, 0, 0, 0, 0, 0, 0, 0, 0, 0, 0, 0, 0, 0, 0, 0, 0, 0, 0,\n",
              "         0, 0, 0, 0, 0, 0, 0, 0, 0, 0, 0, 0, 0, 0, 0, 0, 0, 0, 0, 0, 0, 0, 0, 0,\n",
              "         0, 0, 0, 0, 0, 0, 0, 0, 0, 0, 0, 0, 0, 0, 0, 0, 0, 0, 0, 0, 0, 0, 0, 0,\n",
              "         0, 0, 0, 0, 0, 0, 0, 0]),\n",
              " 'token_type_ids': tensor([0, 0, 0, 0, 0, 0, 0, 0, 0, 0, 0, 0, 0, 0, 0, 0, 0, 0, 0, 0, 0, 0, 0, 0,\n",
              "         0, 0, 0, 0, 0, 0, 0, 0, 0, 0, 0, 0, 0, 0, 0, 0, 0, 0, 0, 0, 0, 0, 0, 0,\n",
              "         0, 0, 0, 0, 0, 0, 0, 0, 0, 0, 0, 0, 0, 0, 0, 0, 0, 0, 0, 0, 0, 0, 0, 0,\n",
              "         0, 0, 0, 0, 0, 0, 0, 0, 0, 0, 0, 0, 0, 0, 0, 0, 0, 0, 0, 0, 0, 0, 0, 0,\n",
              "         0, 0, 0, 0, 0, 0, 0, 0, 0, 0, 0, 0, 0, 0, 0, 0, 0, 0, 0, 0, 0, 0, 0, 0,\n",
              "         0, 0, 0, 0, 0, 0, 0, 0]),\n",
              " 'text': 'Ну, за [NUM]ч. и [NUM] мин. мне ещё никогда не доставляли заказ... отвратительно, одним словом',\n",
              " 'targets': tensor([1., 0., 0., 0., 0., 0., 0., 0., 0., 0., 0., 0., 0., 0., 0., 0., 0., 0.,\n",
              "         0., 0., 0., 0., 0., 0., 0., 0., 0., 0., 0., 0., 0., 0., 0., 0., 0., 0.,\n",
              "         0., 0., 0., 0., 0., 0., 0., 0., 0., 0., 0., 0., 0., 0.])}"
            ]
          },
          "execution_count": 12,
          "metadata": {},
          "output_type": "execute_result"
        }
      ],
      "source": [
        "next(iter(train_dataset))"
      ]
    },
    {
      "cell_type": "markdown",
      "id": "26f345f1",
      "metadata": {
        "id": "26f345f1",
        "papermill": {
          "duration": 0.067133,
          "end_time": "2024-10-29T05:14:47.428196",
          "exception": false,
          "start_time": "2024-10-29T05:14:47.361063",
          "status": "completed"
        },
        "tags": []
      },
      "source": [
        "Объявим наш класс для BERT и объявим выбранную модель."
      ]
    },
    {
      "cell_type": "code",
      "execution_count": null,
      "id": "9e6fabfa",
      "metadata": {
        "execution": {
          "iopub.execute_input": "2024-10-29T05:14:47.564585Z",
          "iopub.status.busy": "2024-10-29T05:14:47.563893Z",
          "iopub.status.idle": "2024-10-29T05:14:56.501936Z",
          "shell.execute_reply": "2024-10-29T05:14:56.500893Z"
        },
        "id": "9e6fabfa",
        "outputId": "a7db5266-5c6b-4c8a-9e38-72d1ceda766e",
        "papermill": {
          "duration": 9.00908,
          "end_time": "2024-10-29T05:14:56.504368",
          "exception": false,
          "start_time": "2024-10-29T05:14:47.495288",
          "status": "completed"
        },
        "tags": [],
        "colab": {
          "referenced_widgets": [
            "4032894f1f7342d586001489e5454c90"
          ]
        }
      },
      "outputs": [
        {
          "data": {
            "application/vnd.jupyter.widget-view+json": {
              "model_id": "4032894f1f7342d586001489e5454c90",
              "version_major": 2,
              "version_minor": 0
            },
            "text/plain": [
              "pytorch_model.bin:   0%|          | 0.00/1.42G [00:00<?, ?B/s]"
            ]
          },
          "metadata": {},
          "output_type": "display_data"
        },
        {
          "name": "stderr",
          "output_type": "stream",
          "text": [
            "Some weights of RobertaForSequenceClassification were not initialized from the model checkpoint at ai-forever/ruRoberta-large and are newly initialized: ['classifier.dense.bias', 'classifier.dense.weight', 'classifier.out_proj.bias', 'classifier.out_proj.weight']\n",
            "You should probably TRAIN this model on a down-stream task to be able to use it for predictions and inference.\n"
          ]
        }
      ],
      "source": [
        "class BERTClass(torch.nn.Module):\n",
        "    def __init__(self):\n",
        "        super(BERTClass, self).__init__()\n",
        "\n",
        "        self.bert_model = RobertaForSequenceClassification.from_pretrained(\n",
        "            model_name,\n",
        "            return_dict=True,\n",
        "            problem_type='multi_label_classification',\n",
        "            num_labels=50\n",
        "        )\n",
        "\n",
        "    def forward(self, input_ids, attn_mask, token_type_ids):\n",
        "        output = self.bert_model(\n",
        "            input_ids,\n",
        "            attention_mask=attn_mask,\n",
        "            token_type_ids=token_type_ids\n",
        "        )\n",
        "\n",
        "        return output.logits\n",
        "\n",
        "model = BERTClass().to(device)"
      ]
    },
    {
      "cell_type": "markdown",
      "id": "164fecec",
      "metadata": {
        "id": "164fecec",
        "papermill": {
          "duration": 0.066671,
          "end_time": "2024-10-29T05:14:56.642387",
          "exception": false,
          "start_time": "2024-10-29T05:14:56.575716",
          "status": "completed"
        },
        "tags": []
      },
      "source": [
        "Зададим функцию потерь - Бинарную кросс-энтропию и оптимизатор - Адам. В ходе наблюдений выявлен оптимальный размер градиентного шага - 1e-5."
      ]
    },
    {
      "cell_type": "code",
      "execution_count": null,
      "id": "bc48555f",
      "metadata": {
        "execution": {
          "iopub.execute_input": "2024-10-29T05:14:56.781486Z",
          "iopub.status.busy": "2024-10-29T05:14:56.781085Z",
          "iopub.status.idle": "2024-10-29T05:14:56.785926Z",
          "shell.execute_reply": "2024-10-29T05:14:56.784990Z"
        },
        "id": "bc48555f",
        "papermill": {
          "duration": 0.078142,
          "end_time": "2024-10-29T05:14:56.787850",
          "exception": false,
          "start_time": "2024-10-29T05:14:56.709708",
          "status": "completed"
        },
        "tags": []
      },
      "outputs": [],
      "source": [
        "def loss_fn(outputs, targets):\n",
        "    '''Бинарная кросс-энтропия'''\n",
        "    return torch.nn.BCEWithLogitsLoss()(outputs, targets)"
      ]
    },
    {
      "cell_type": "code",
      "execution_count": null,
      "id": "93ca5672",
      "metadata": {
        "execution": {
          "iopub.execute_input": "2024-10-29T05:14:56.925397Z",
          "iopub.status.busy": "2024-10-29T05:14:56.924656Z",
          "iopub.status.idle": "2024-10-29T05:14:57.756693Z",
          "shell.execute_reply": "2024-10-29T05:14:57.755698Z"
        },
        "id": "93ca5672",
        "papermill": {
          "duration": 0.903189,
          "end_time": "2024-10-29T05:14:57.759137",
          "exception": false,
          "start_time": "2024-10-29T05:14:56.855948",
          "status": "completed"
        },
        "tags": []
      },
      "outputs": [],
      "source": [
        "from transformers import AdamW\n",
        "\n",
        "EPOCHS = 45\n",
        "optimizer = AdamW(model.parameters(), lr = 1e-5)"
      ]
    },
    {
      "cell_type": "markdown",
      "id": "dceee07e",
      "metadata": {
        "id": "dceee07e",
        "papermill": {
          "duration": 0.070702,
          "end_time": "2024-10-29T05:14:57.902862",
          "exception": false,
          "start_time": "2024-10-29T05:14:57.832160",
          "status": "completed"
        },
        "tags": []
      },
      "source": [
        "Далее с помощью двух функций в ходе 45 эпох дообучим и составим валидацию модели."
      ]
    },
    {
      "cell_type": "code",
      "execution_count": null,
      "id": "b1ca78e4",
      "metadata": {
        "execution": {
          "iopub.execute_input": "2024-10-29T05:14:58.043916Z",
          "iopub.status.busy": "2024-10-29T05:14:58.043187Z",
          "iopub.status.idle": "2024-10-29T05:14:58.055991Z",
          "shell.execute_reply": "2024-10-29T05:14:58.055076Z"
        },
        "id": "b1ca78e4",
        "papermill": {
          "duration": 0.085804,
          "end_time": "2024-10-29T05:14:58.057974",
          "exception": false,
          "start_time": "2024-10-29T05:14:57.972170",
          "status": "completed"
        },
        "tags": []
      },
      "outputs": [],
      "source": [
        "def ecom_format(y):\n",
        "    '''Перевод y в формат соревнования ecom.tech'''\n",
        "    y = [' '.join(np.where(y[i] == 1)[0].astype(str).tolist()) for i in range(y.shape[0])]\n",
        "    return np.array(y)\n",
        "\n",
        "def train_model(training_loader, model, optimizer):\n",
        "    '''Дообучение модели'''\n",
        "    losses = []\n",
        "    correct_predictions = 0\n",
        "    num_samples = 0\n",
        "\n",
        "    model.train()\n",
        "\n",
        "    loop = tq.tqdm(\n",
        "        enumerate(training_loader),\n",
        "        total=len(training_loader),\n",
        "        leave=True,\n",
        "        colour='steelblue'\n",
        "    )\n",
        "\n",
        "    for batch_idx, data in loop:\n",
        "        ids = data['input_ids'].to(device, dtype = torch.long)\n",
        "        mask = data['attention_mask'].to(device, dtype = torch.long)\n",
        "        token_type_ids = data['token_type_ids'].to(device, dtype = torch.long)\n",
        "        targets = data['targets'].to(device, dtype = torch.float)\n",
        "\n",
        "        # forward\n",
        "        outputs = model(ids, mask, token_type_ids)\n",
        "        loss = loss_fn(outputs, targets)\n",
        "        losses.append(loss.item())\n",
        "\n",
        "        outputs = torch.sigmoid(outputs).cpu().detach().numpy()\n",
        "        outputs = (outputs >= 0.45).astype(float)\n",
        "\n",
        "        targets = targets.cpu().detach().numpy()\n",
        "\n",
        "        outputs = ecom_format(outputs)\n",
        "        targets = ecom_format(targets)\n",
        "\n",
        "        correct_predictions += np.sum(outputs==targets)\n",
        "        num_samples += targets.size\n",
        "\n",
        "        # backward\n",
        "        optimizer.zero_grad()\n",
        "        loss.backward()\n",
        "        nn.utils.clip_grad_norm_(model.parameters(), max_norm=1.0)\n",
        "        optimizer.step()\n",
        "\n",
        "    # returning: trained model, model accuracy, mean loss\n",
        "    return model, float(correct_predictions)/num_samples, np.mean(losses)"
      ]
    },
    {
      "cell_type": "code",
      "execution_count": null,
      "id": "b8a4cef4",
      "metadata": {
        "execution": {
          "iopub.execute_input": "2024-10-29T05:14:58.198827Z",
          "iopub.status.busy": "2024-10-29T05:14:58.198432Z",
          "iopub.status.idle": "2024-10-29T05:14:58.207517Z",
          "shell.execute_reply": "2024-10-29T05:14:58.206718Z"
        },
        "id": "b8a4cef4",
        "papermill": {
          "duration": 0.081458,
          "end_time": "2024-10-29T05:14:58.209449",
          "exception": false,
          "start_time": "2024-10-29T05:14:58.127991",
          "status": "completed"
        },
        "tags": []
      },
      "outputs": [],
      "source": [
        "def eval_model(validation_loader, model, optimizer):\n",
        "    '''Валидация модели'''\n",
        "    losses = []\n",
        "    correct_predictions = 0\n",
        "    num_samples = 0\n",
        "\n",
        "    model.eval()\n",
        "\n",
        "    with torch.no_grad():\n",
        "\n",
        "        for batch_idx, data in enumerate(validation_loader, 0):\n",
        "            ids = data['input_ids'].to(device, dtype = torch.long)\n",
        "            mask = data['attention_mask'].to(device, dtype = torch.long)\n",
        "            token_type_ids = data['token_type_ids'].to(device, dtype = torch.long)\n",
        "\n",
        "            targets = data['targets'].to(device, dtype = torch.float)\n",
        "            outputs = model(ids, mask, token_type_ids)\n",
        "\n",
        "            loss = loss_fn(outputs, targets)\n",
        "            losses.append(loss.item())\n",
        "\n",
        "            # validation accuracy\n",
        "            outputs = torch.sigmoid(outputs).cpu().detach().numpy()\n",
        "            outputs = (outputs >= 0.45).astype(float)\n",
        "            targets = targets.cpu().detach().numpy()\n",
        "\n",
        "            outputs = ecom_format(outputs)\n",
        "            targets = ecom_format(targets)\n",
        "            correct_predictions += np.sum(outputs==targets)\n",
        "            num_samples += targets.size\n",
        "\n",
        "    return float(correct_predictions)/num_samples, np.mean(losses)"
      ]
    },
    {
      "cell_type": "markdown",
      "id": "f86f40d1",
      "metadata": {
        "id": "f86f40d1",
        "papermill": {
          "duration": 0.067542,
          "end_time": "2024-10-29T05:14:58.343864",
          "exception": false,
          "start_time": "2024-10-29T05:14:58.276322",
          "status": "completed"
        },
        "tags": []
      },
      "source": [
        "Для лучшей наглядности обучения и контроля за временем импортируем библиотеку tqdm. Следующий код запускает дообучение модели."
      ]
    },
    {
      "cell_type": "markdown",
      "id": "6a9b40d1",
      "metadata": {
        "id": "6a9b40d1",
        "papermill": {
          "duration": 0.068049,
          "end_time": "2024-10-29T05:14:58.481724",
          "exception": false,
          "start_time": "2024-10-29T05:14:58.413675",
          "status": "completed"
        },
        "tags": []
      },
      "source": [
        "**Важно:** нужно задать имя для сохранения весов модели. Их потом стоит использовать в ходе составления прогнозов."
      ]
    },
    {
      "cell_type": "code",
      "execution_count": null,
      "id": "5c636a26",
      "metadata": {
        "execution": {
          "iopub.execute_input": "2024-10-29T05:14:58.621699Z",
          "iopub.status.busy": "2024-10-29T05:14:58.621035Z",
          "iopub.status.idle": "2024-10-29T07:09:02.700009Z",
          "shell.execute_reply": "2024-10-29T07:09:02.699029Z"
        },
        "id": "5c636a26",
        "outputId": "d8459ba5-0cc6-4165-c5ce-191aef494a99",
        "papermill": {
          "duration": 6844.234702,
          "end_time": "2024-10-29T07:09:02.785017",
          "exception": false,
          "start_time": "2024-10-29T05:14:58.550315",
          "status": "completed"
        },
        "tags": [],
        "colab": {
          "referenced_widgets": [
            "8bc7c303b1ff428a81161b4014a1f87e",
            "39d99a2380d241658a59adeffe31cbfb",
            "777ec769525142e4ac328a1093197c30",
            "6ca490ac55044758af4ae16f88bf36fe",
            "4fabe88c3c754aab8b1def0041278af6",
            "d8695c9f46884a43b130e03a52ea5f9d",
            "76289b60d5d5418e93eb2f652e9409ef",
            "6d5b2943eac9445d93d4e6a8c967a249",
            "a1106d06ef4940009f68a885713fafde",
            "a32c297789f64ed0b7692c4e6357eca0",
            "5e233500020a432ca0166e1292c6ea9d",
            "1da73aad50e04684b4bb4da2d2338b69",
            "91ce63250d924871a311eecc74540d6b",
            "df2823d1443a4f97acaefcbcb6996fea",
            "8d16dc855ee44593b4cd71991e4b8b6f",
            "cce1d34495da46d9bdb3e5486fa38b5b",
            "fb98ce78b04b4e9382c03837e7b478b4",
            "fcc1a219088c4340995662631f0ffc61",
            "438290dcc36b4515b72b11d0dbde54a2",
            "61a7a37fef844d5c8324ee9fbd074fbe",
            "a00c5fed3c274aa5949813fbc0fadb82",
            "0c78afe1ded04718a7ccf59b7758dc6a",
            "244fa204a72f48cfab6db3d28765aa44",
            "c6b5bea44e3041998d4428bfeec73b53",
            "751ac5dbfe9a4fe7909795ead606dacd",
            "c86a5edc67314b5c8cec796002be0dd4",
            "b0b18dcceb1a4ccea2494d712842be7f",
            "585ceb6ce9e0492caf07a1957b2c65a4",
            "66774a7585ee4df1a64978b7b3b24a69",
            "0a3cf0e040ab487a96bbf37b95fb07f3",
            "78e8271f30db4f2e85f72933762ace95",
            "528ae2ef8b684b7e94b120921f8897cb",
            "6e91c154cb9d4bcebee9d58eef4cc855",
            "142f87a9d3244320ade20010ca702b49",
            "b8e66c68e19647c08b0bfbb830da697c",
            "0a901bb3f2244fcd991daa10b0bde65e",
            "183584f034cc4b1a9039e9128c84e16d",
            "a32062ef54004719b336f50cfab7e2dc",
            "6cf3a544afed41db9c75feea7cb24c6a",
            "9bfe1aa968e54fa4bdac620c43289eed",
            "313fb734b5b149229a7d843385bb8a6f",
            "736a8eac1b34415498b52a7a69e7402d",
            "e3a1b72b97aa42169834d2412d0a525f",
            "af46116d46e341b49d331d0f5f0846ac",
            "4ebcb4021b1f48eb84df8792a70068c5"
          ]
        }
      },
      "outputs": [
        {
          "name": "stdout",
          "output_type": "stream",
          "text": [
            "Epoch 1/45\n"
          ]
        },
        {
          "data": {
            "application/vnd.jupyter.widget-view+json": {
              "model_id": "8bc7c303b1ff428a81161b4014a1f87e",
              "version_major": 2,
              "version_minor": 0
            },
            "text/plain": [
              "  0%|          | 0/116 [00:00<?, ?it/s]"
            ]
          },
          "metadata": {},
          "output_type": "display_data"
        },
        {
          "name": "stdout",
          "output_type": "stream",
          "text": [
            "train_loss=0.2850,             val_loss=0.1532,             train_acc=0.0005,             val_acc=0.0000\n",
            "Epoch 2/45\n"
          ]
        },
        {
          "data": {
            "application/vnd.jupyter.widget-view+json": {
              "model_id": "39d99a2380d241658a59adeffe31cbfb",
              "version_major": 2,
              "version_minor": 0
            },
            "text/plain": [
              "  0%|          | 0/116 [00:00<?, ?it/s]"
            ]
          },
          "metadata": {},
          "output_type": "display_data"
        },
        {
          "name": "stdout",
          "output_type": "stream",
          "text": [
            "train_loss=0.1508,             val_loss=0.1209,             train_acc=0.0000,             val_acc=0.0000\n",
            "Epoch 3/45\n"
          ]
        },
        {
          "data": {
            "application/vnd.jupyter.widget-view+json": {
              "model_id": "777ec769525142e4ac328a1093197c30",
              "version_major": 2,
              "version_minor": 0
            },
            "text/plain": [
              "  0%|          | 0/116 [00:00<?, ?it/s]"
            ]
          },
          "metadata": {},
          "output_type": "display_data"
        },
        {
          "name": "stdout",
          "output_type": "stream",
          "text": [
            "train_loss=0.1225,             val_loss=0.1103,             train_acc=0.0000,             val_acc=0.0000\n",
            "Epoch 4/45\n"
          ]
        },
        {
          "data": {
            "application/vnd.jupyter.widget-view+json": {
              "model_id": "6ca490ac55044758af4ae16f88bf36fe",
              "version_major": 2,
              "version_minor": 0
            },
            "text/plain": [
              "  0%|          | 0/116 [00:00<?, ?it/s]"
            ]
          },
          "metadata": {},
          "output_type": "display_data"
        },
        {
          "name": "stdout",
          "output_type": "stream",
          "text": [
            "train_loss=0.1119,             val_loss=0.0977,             train_acc=0.0035,             val_acc=0.0335\n",
            "Epoch 5/45\n"
          ]
        },
        {
          "data": {
            "application/vnd.jupyter.widget-view+json": {
              "model_id": "4fabe88c3c754aab8b1def0041278af6",
              "version_major": 2,
              "version_minor": 0
            },
            "text/plain": [
              "  0%|          | 0/116 [00:00<?, ?it/s]"
            ]
          },
          "metadata": {},
          "output_type": "display_data"
        },
        {
          "name": "stdout",
          "output_type": "stream",
          "text": [
            "train_loss=0.0989,             val_loss=0.0860,             train_acc=0.0841,             val_acc=0.2119\n",
            "Epoch 6/45\n"
          ]
        },
        {
          "data": {
            "application/vnd.jupyter.widget-view+json": {
              "model_id": "d8695c9f46884a43b130e03a52ea5f9d",
              "version_major": 2,
              "version_minor": 0
            },
            "text/plain": [
              "  0%|          | 0/116 [00:00<?, ?it/s]"
            ]
          },
          "metadata": {},
          "output_type": "display_data"
        },
        {
          "name": "stdout",
          "output_type": "stream",
          "text": [
            "train_loss=0.0881,             val_loss=0.0769,             train_acc=0.1904,             val_acc=0.3038\n",
            "Epoch 7/45\n"
          ]
        },
        {
          "data": {
            "application/vnd.jupyter.widget-view+json": {
              "model_id": "76289b60d5d5418e93eb2f652e9409ef",
              "version_major": 2,
              "version_minor": 0
            },
            "text/plain": [
              "  0%|          | 0/116 [00:00<?, ?it/s]"
            ]
          },
          "metadata": {},
          "output_type": "display_data"
        },
        {
          "name": "stdout",
          "output_type": "stream",
          "text": [
            "train_loss=0.0788,             val_loss=0.0707,             train_acc=0.2885,             val_acc=0.3459\n",
            "Epoch 8/45\n"
          ]
        },
        {
          "data": {
            "application/vnd.jupyter.widget-view+json": {
              "model_id": "6d5b2943eac9445d93d4e6a8c967a249",
              "version_major": 2,
              "version_minor": 0
            },
            "text/plain": [
              "  0%|          | 0/116 [00:00<?, ?it/s]"
            ]
          },
          "metadata": {},
          "output_type": "display_data"
        },
        {
          "name": "stdout",
          "output_type": "stream",
          "text": [
            "train_loss=0.0707,             val_loss=0.0638,             train_acc=0.3656,             val_acc=0.4357\n",
            "Epoch 9/45\n"
          ]
        },
        {
          "data": {
            "application/vnd.jupyter.widget-view+json": {
              "model_id": "a1106d06ef4940009f68a885713fafde",
              "version_major": 2,
              "version_minor": 0
            },
            "text/plain": [
              "  0%|          | 0/116 [00:00<?, ?it/s]"
            ]
          },
          "metadata": {},
          "output_type": "display_data"
        },
        {
          "name": "stdout",
          "output_type": "stream",
          "text": [
            "train_loss=0.0640,             val_loss=0.0603,             train_acc=0.4365,             val_acc=0.4530\n",
            "Epoch 10/45\n"
          ]
        },
        {
          "data": {
            "application/vnd.jupyter.widget-view+json": {
              "model_id": "a32c297789f64ed0b7692c4e6357eca0",
              "version_major": 2,
              "version_minor": 0
            },
            "text/plain": [
              "  0%|          | 0/116 [00:00<?, ?it/s]"
            ]
          },
          "metadata": {},
          "output_type": "display_data"
        },
        {
          "name": "stdout",
          "output_type": "stream",
          "text": [
            "train_loss=0.0577,             val_loss=0.0576,             train_acc=0.4895,             val_acc=0.4843\n",
            "Epoch 11/45\n"
          ]
        },
        {
          "data": {
            "application/vnd.jupyter.widget-view+json": {
              "model_id": "5e233500020a432ca0166e1292c6ea9d",
              "version_major": 2,
              "version_minor": 0
            },
            "text/plain": [
              "  0%|          | 0/116 [00:00<?, ?it/s]"
            ]
          },
          "metadata": {},
          "output_type": "display_data"
        },
        {
          "name": "stdout",
          "output_type": "stream",
          "text": [
            "train_loss=0.0526,             val_loss=0.0550,             train_acc=0.5281,             val_acc=0.4832\n",
            "Epoch 12/45\n"
          ]
        },
        {
          "data": {
            "application/vnd.jupyter.widget-view+json": {
              "model_id": "1da73aad50e04684b4bb4da2d2338b69",
              "version_major": 2,
              "version_minor": 0
            },
            "text/plain": [
              "  0%|          | 0/116 [00:00<?, ?it/s]"
            ]
          },
          "metadata": {},
          "output_type": "display_data"
        },
        {
          "name": "stdout",
          "output_type": "stream",
          "text": [
            "train_loss=0.0478,             val_loss=0.0527,             train_acc=0.5654,             val_acc=0.4941\n",
            "Epoch 13/45\n"
          ]
        },
        {
          "data": {
            "application/vnd.jupyter.widget-view+json": {
              "model_id": "91ce63250d924871a311eecc74540d6b",
              "version_major": 2,
              "version_minor": 0
            },
            "text/plain": [
              "  0%|          | 0/116 [00:00<?, ?it/s]"
            ]
          },
          "metadata": {},
          "output_type": "display_data"
        },
        {
          "name": "stdout",
          "output_type": "stream",
          "text": [
            "train_loss=0.0437,             val_loss=0.0513,             train_acc=0.6038,             val_acc=0.5286\n",
            "Epoch 14/45\n"
          ]
        },
        {
          "data": {
            "application/vnd.jupyter.widget-view+json": {
              "model_id": "df2823d1443a4f97acaefcbcb6996fea",
              "version_major": 2,
              "version_minor": 0
            },
            "text/plain": [
              "  0%|          | 0/116 [00:00<?, ?it/s]"
            ]
          },
          "metadata": {},
          "output_type": "display_data"
        },
        {
          "name": "stdout",
          "output_type": "stream",
          "text": [
            "train_loss=0.0400,             val_loss=0.0504,             train_acc=0.6422,             val_acc=0.5330\n",
            "Epoch 15/45\n"
          ]
        },
        {
          "data": {
            "application/vnd.jupyter.widget-view+json": {
              "model_id": "8d16dc855ee44593b4cd71991e4b8b6f",
              "version_major": 2,
              "version_minor": 0
            },
            "text/plain": [
              "  0%|          | 0/116 [00:00<?, ?it/s]"
            ]
          },
          "metadata": {},
          "output_type": "display_data"
        },
        {
          "name": "stdout",
          "output_type": "stream",
          "text": [
            "train_loss=0.0370,             val_loss=0.0495,             train_acc=0.6693,             val_acc=0.5373\n",
            "Epoch 16/45\n"
          ]
        },
        {
          "data": {
            "application/vnd.jupyter.widget-view+json": {
              "model_id": "cce1d34495da46d9bdb3e5486fa38b5b",
              "version_major": 2,
              "version_minor": 0
            },
            "text/plain": [
              "  0%|          | 0/116 [00:00<?, ?it/s]"
            ]
          },
          "metadata": {},
          "output_type": "display_data"
        },
        {
          "name": "stdout",
          "output_type": "stream",
          "text": [
            "train_loss=0.0336,             val_loss=0.0483,             train_acc=0.7071,             val_acc=0.5405\n",
            "Epoch 17/45\n"
          ]
        },
        {
          "data": {
            "application/vnd.jupyter.widget-view+json": {
              "model_id": "fb98ce78b04b4e9382c03837e7b478b4",
              "version_major": 2,
              "version_minor": 0
            },
            "text/plain": [
              "  0%|          | 0/116 [00:00<?, ?it/s]"
            ]
          },
          "metadata": {},
          "output_type": "display_data"
        },
        {
          "name": "stdout",
          "output_type": "stream",
          "text": [
            "train_loss=0.0312,             val_loss=0.0478,             train_acc=0.7266,             val_acc=0.5351\n",
            "Epoch 18/45\n"
          ]
        },
        {
          "data": {
            "application/vnd.jupyter.widget-view+json": {
              "model_id": "fcc1a219088c4340995662631f0ffc61",
              "version_major": 2,
              "version_minor": 0
            },
            "text/plain": [
              "  0%|          | 0/116 [00:00<?, ?it/s]"
            ]
          },
          "metadata": {},
          "output_type": "display_data"
        },
        {
          "name": "stdout",
          "output_type": "stream",
          "text": [
            "train_loss=0.0290,             val_loss=0.0477,             train_acc=0.7485,             val_acc=0.5416\n",
            "Epoch 19/45\n"
          ]
        },
        {
          "data": {
            "application/vnd.jupyter.widget-view+json": {
              "model_id": "438290dcc36b4515b72b11d0dbde54a2",
              "version_major": 2,
              "version_minor": 0
            },
            "text/plain": [
              "  0%|          | 0/116 [00:00<?, ?it/s]"
            ]
          },
          "metadata": {},
          "output_type": "display_data"
        },
        {
          "name": "stdout",
          "output_type": "stream",
          "text": [
            "train_loss=0.0268,             val_loss=0.0462,             train_acc=0.7726,             val_acc=0.5524\n",
            "Epoch 20/45\n"
          ]
        },
        {
          "data": {
            "application/vnd.jupyter.widget-view+json": {
              "model_id": "61a7a37fef844d5c8324ee9fbd074fbe",
              "version_major": 2,
              "version_minor": 0
            },
            "text/plain": [
              "  0%|          | 0/116 [00:00<?, ?it/s]"
            ]
          },
          "metadata": {},
          "output_type": "display_data"
        },
        {
          "name": "stdout",
          "output_type": "stream",
          "text": [
            "train_loss=0.0248,             val_loss=0.0450,             train_acc=0.7904,             val_acc=0.5503\n",
            "Epoch 21/45\n"
          ]
        },
        {
          "data": {
            "application/vnd.jupyter.widget-view+json": {
              "model_id": "a00c5fed3c274aa5949813fbc0fadb82",
              "version_major": 2,
              "version_minor": 0
            },
            "text/plain": [
              "  0%|          | 0/116 [00:00<?, ?it/s]"
            ]
          },
          "metadata": {},
          "output_type": "display_data"
        },
        {
          "name": "stdout",
          "output_type": "stream",
          "text": [
            "train_loss=0.0227,             val_loss=0.0456,             train_acc=0.8186,             val_acc=0.5524\n",
            "Epoch 22/45\n"
          ]
        },
        {
          "data": {
            "application/vnd.jupyter.widget-view+json": {
              "model_id": "0c78afe1ded04718a7ccf59b7758dc6a",
              "version_major": 2,
              "version_minor": 0
            },
            "text/plain": [
              "  0%|          | 0/116 [00:00<?, ?it/s]"
            ]
          },
          "metadata": {},
          "output_type": "display_data"
        },
        {
          "name": "stdout",
          "output_type": "stream",
          "text": [
            "train_loss=0.0211,             val_loss=0.0463,             train_acc=0.8405,             val_acc=0.5535\n",
            "Epoch 23/45\n"
          ]
        },
        {
          "data": {
            "application/vnd.jupyter.widget-view+json": {
              "model_id": "244fa204a72f48cfab6db3d28765aa44",
              "version_major": 2,
              "version_minor": 0
            },
            "text/plain": [
              "  0%|          | 0/116 [00:00<?, ?it/s]"
            ]
          },
          "metadata": {},
          "output_type": "display_data"
        },
        {
          "name": "stdout",
          "output_type": "stream",
          "text": [
            "train_loss=0.0195,             val_loss=0.0452,             train_acc=0.8515,             val_acc=0.5730\n",
            "Epoch 24/45\n"
          ]
        },
        {
          "data": {
            "application/vnd.jupyter.widget-view+json": {
              "model_id": "c6b5bea44e3041998d4428bfeec73b53",
              "version_major": 2,
              "version_minor": 0
            },
            "text/plain": [
              "  0%|          | 0/116 [00:00<?, ?it/s]"
            ]
          },
          "metadata": {},
          "output_type": "display_data"
        },
        {
          "name": "stdout",
          "output_type": "stream",
          "text": [
            "train_loss=0.0182,             val_loss=0.0452,             train_acc=0.8726,             val_acc=0.5600\n",
            "Epoch 25/45\n"
          ]
        },
        {
          "data": {
            "application/vnd.jupyter.widget-view+json": {
              "model_id": "751ac5dbfe9a4fe7909795ead606dacd",
              "version_major": 2,
              "version_minor": 0
            },
            "text/plain": [
              "  0%|          | 0/116 [00:00<?, ?it/s]"
            ]
          },
          "metadata": {},
          "output_type": "display_data"
        },
        {
          "name": "stdout",
          "output_type": "stream",
          "text": [
            "train_loss=0.0172,             val_loss=0.0459,             train_acc=0.8786,             val_acc=0.5557\n",
            "Epoch 26/45\n"
          ]
        },
        {
          "data": {
            "application/vnd.jupyter.widget-view+json": {
              "model_id": "c86a5edc67314b5c8cec796002be0dd4",
              "version_major": 2,
              "version_minor": 0
            },
            "text/plain": [
              "  0%|          | 0/116 [00:00<?, ?it/s]"
            ]
          },
          "metadata": {},
          "output_type": "display_data"
        },
        {
          "name": "stdout",
          "output_type": "stream",
          "text": [
            "train_loss=0.0164,             val_loss=0.0449,             train_acc=0.8837,             val_acc=0.5795\n",
            "Epoch 27/45\n"
          ]
        },
        {
          "data": {
            "application/vnd.jupyter.widget-view+json": {
              "model_id": "b0b18dcceb1a4ccea2494d712842be7f",
              "version_major": 2,
              "version_minor": 0
            },
            "text/plain": [
              "  0%|          | 0/116 [00:00<?, ?it/s]"
            ]
          },
          "metadata": {},
          "output_type": "display_data"
        },
        {
          "name": "stdout",
          "output_type": "stream",
          "text": [
            "train_loss=0.0152,             val_loss=0.0452,             train_acc=0.8953,             val_acc=0.5578\n",
            "Epoch 28/45\n"
          ]
        },
        {
          "data": {
            "application/vnd.jupyter.widget-view+json": {
              "model_id": "585ceb6ce9e0492caf07a1957b2c65a4",
              "version_major": 2,
              "version_minor": 0
            },
            "text/plain": [
              "  0%|          | 0/116 [00:00<?, ?it/s]"
            ]
          },
          "metadata": {},
          "output_type": "display_data"
        },
        {
          "name": "stdout",
          "output_type": "stream",
          "text": [
            "train_loss=0.0140,             val_loss=0.0447,             train_acc=0.9127,             val_acc=0.5719\n",
            "Epoch 29/45\n"
          ]
        },
        {
          "data": {
            "application/vnd.jupyter.widget-view+json": {
              "model_id": "66774a7585ee4df1a64978b7b3b24a69",
              "version_major": 2,
              "version_minor": 0
            },
            "text/plain": [
              "  0%|          | 0/116 [00:00<?, ?it/s]"
            ]
          },
          "metadata": {},
          "output_type": "display_data"
        },
        {
          "name": "stdout",
          "output_type": "stream",
          "text": [
            "train_loss=0.0131,             val_loss=0.0462,             train_acc=0.9183,             val_acc=0.5784\n",
            "Epoch 30/45\n"
          ]
        },
        {
          "data": {
            "application/vnd.jupyter.widget-view+json": {
              "model_id": "0a3cf0e040ab487a96bbf37b95fb07f3",
              "version_major": 2,
              "version_minor": 0
            },
            "text/plain": [
              "  0%|          | 0/116 [00:00<?, ?it/s]"
            ]
          },
          "metadata": {},
          "output_type": "display_data"
        },
        {
          "name": "stdout",
          "output_type": "stream",
          "text": [
            "train_loss=0.0124,             val_loss=0.0454,             train_acc=0.9273,             val_acc=0.5665\n",
            "Epoch 31/45\n"
          ]
        },
        {
          "data": {
            "application/vnd.jupyter.widget-view+json": {
              "model_id": "78e8271f30db4f2e85f72933762ace95",
              "version_major": 2,
              "version_minor": 0
            },
            "text/plain": [
              "  0%|          | 0/116 [00:00<?, ?it/s]"
            ]
          },
          "metadata": {},
          "output_type": "display_data"
        },
        {
          "name": "stdout",
          "output_type": "stream",
          "text": [
            "train_loss=0.0118,             val_loss=0.0461,             train_acc=0.9289,             val_acc=0.5654\n",
            "Epoch 32/45\n"
          ]
        },
        {
          "data": {
            "application/vnd.jupyter.widget-view+json": {
              "model_id": "528ae2ef8b684b7e94b120921f8897cb",
              "version_major": 2,
              "version_minor": 0
            },
            "text/plain": [
              "  0%|          | 0/116 [00:00<?, ?it/s]"
            ]
          },
          "metadata": {},
          "output_type": "display_data"
        },
        {
          "name": "stdout",
          "output_type": "stream",
          "text": [
            "train_loss=0.0111,             val_loss=0.0443,             train_acc=0.9365,             val_acc=0.5849\n",
            "Epoch 33/45\n"
          ]
        },
        {
          "data": {
            "application/vnd.jupyter.widget-view+json": {
              "model_id": "6e91c154cb9d4bcebee9d58eef4cc855",
              "version_major": 2,
              "version_minor": 0
            },
            "text/plain": [
              "  0%|          | 0/116 [00:00<?, ?it/s]"
            ]
          },
          "metadata": {},
          "output_type": "display_data"
        },
        {
          "name": "stdout",
          "output_type": "stream",
          "text": [
            "train_loss=0.0104,             val_loss=0.0454,             train_acc=0.9456,             val_acc=0.5741\n",
            "Epoch 34/45\n"
          ]
        },
        {
          "data": {
            "application/vnd.jupyter.widget-view+json": {
              "model_id": "142f87a9d3244320ade20010ca702b49",
              "version_major": 2,
              "version_minor": 0
            },
            "text/plain": [
              "  0%|          | 0/116 [00:00<?, ?it/s]"
            ]
          },
          "metadata": {},
          "output_type": "display_data"
        },
        {
          "name": "stdout",
          "output_type": "stream",
          "text": [
            "train_loss=0.0098,             val_loss=0.0455,             train_acc=0.9502,             val_acc=0.5838\n",
            "Epoch 35/45\n"
          ]
        },
        {
          "data": {
            "application/vnd.jupyter.widget-view+json": {
              "model_id": "b8e66c68e19647c08b0bfbb830da697c",
              "version_major": 2,
              "version_minor": 0
            },
            "text/plain": [
              "  0%|          | 0/116 [00:00<?, ?it/s]"
            ]
          },
          "metadata": {},
          "output_type": "display_data"
        },
        {
          "name": "stdout",
          "output_type": "stream",
          "text": [
            "train_loss=0.0094,             val_loss=0.0465,             train_acc=0.9511,             val_acc=0.5686\n",
            "Epoch 36/45\n"
          ]
        },
        {
          "data": {
            "application/vnd.jupyter.widget-view+json": {
              "model_id": "0a901bb3f2244fcd991daa10b0bde65e",
              "version_major": 2,
              "version_minor": 0
            },
            "text/plain": [
              "  0%|          | 0/116 [00:00<?, ?it/s]"
            ]
          },
          "metadata": {},
          "output_type": "display_data"
        },
        {
          "name": "stdout",
          "output_type": "stream",
          "text": [
            "train_loss=0.0088,             val_loss=0.0451,             train_acc=0.9543,             val_acc=0.5805\n",
            "Epoch 37/45\n"
          ]
        },
        {
          "data": {
            "application/vnd.jupyter.widget-view+json": {
              "model_id": "183584f034cc4b1a9039e9128c84e16d",
              "version_major": 2,
              "version_minor": 0
            },
            "text/plain": [
              "  0%|          | 0/116 [00:00<?, ?it/s]"
            ]
          },
          "metadata": {},
          "output_type": "display_data"
        },
        {
          "name": "stdout",
          "output_type": "stream",
          "text": [
            "train_loss=0.0084,             val_loss=0.0457,             train_acc=0.9600,             val_acc=0.5816\n",
            "Epoch 38/45\n"
          ]
        },
        {
          "data": {
            "application/vnd.jupyter.widget-view+json": {
              "model_id": "a32062ef54004719b336f50cfab7e2dc",
              "version_major": 2,
              "version_minor": 0
            },
            "text/plain": [
              "  0%|          | 0/116 [00:00<?, ?it/s]"
            ]
          },
          "metadata": {},
          "output_type": "display_data"
        },
        {
          "name": "stdout",
          "output_type": "stream",
          "text": [
            "train_loss=0.0078,             val_loss=0.0462,             train_acc=0.9676,             val_acc=0.5773\n",
            "Epoch 39/45\n"
          ]
        },
        {
          "data": {
            "application/vnd.jupyter.widget-view+json": {
              "model_id": "6cf3a544afed41db9c75feea7cb24c6a",
              "version_major": 2,
              "version_minor": 0
            },
            "text/plain": [
              "  0%|          | 0/116 [00:00<?, ?it/s]"
            ]
          },
          "metadata": {},
          "output_type": "display_data"
        },
        {
          "name": "stdout",
          "output_type": "stream",
          "text": [
            "train_loss=0.0076,             val_loss=0.0466,             train_acc=0.9630,             val_acc=0.5676\n",
            "Epoch 40/45\n"
          ]
        },
        {
          "data": {
            "application/vnd.jupyter.widget-view+json": {
              "model_id": "9bfe1aa968e54fa4bdac620c43289eed",
              "version_major": 2,
              "version_minor": 0
            },
            "text/plain": [
              "  0%|          | 0/116 [00:00<?, ?it/s]"
            ]
          },
          "metadata": {},
          "output_type": "display_data"
        },
        {
          "name": "stdout",
          "output_type": "stream",
          "text": [
            "train_loss=0.0076,             val_loss=0.0463,             train_acc=0.9630,             val_acc=0.5751\n",
            "Epoch 41/45\n"
          ]
        },
        {
          "data": {
            "application/vnd.jupyter.widget-view+json": {
              "model_id": "313fb734b5b149229a7d843385bb8a6f",
              "version_major": 2,
              "version_minor": 0
            },
            "text/plain": [
              "  0%|          | 0/116 [00:00<?, ?it/s]"
            ]
          },
          "metadata": {},
          "output_type": "display_data"
        },
        {
          "name": "stdout",
          "output_type": "stream",
          "text": [
            "train_loss=0.0070,             val_loss=0.0461,             train_acc=0.9667,             val_acc=0.5957\n",
            "Epoch 42/45\n"
          ]
        },
        {
          "data": {
            "application/vnd.jupyter.widget-view+json": {
              "model_id": "736a8eac1b34415498b52a7a69e7402d",
              "version_major": 2,
              "version_minor": 0
            },
            "text/plain": [
              "  0%|          | 0/116 [00:00<?, ?it/s]"
            ]
          },
          "metadata": {},
          "output_type": "display_data"
        },
        {
          "name": "stdout",
          "output_type": "stream",
          "text": [
            "train_loss=0.0067,             val_loss=0.0470,             train_acc=0.9681,             val_acc=0.5859\n",
            "Epoch 43/45\n"
          ]
        },
        {
          "data": {
            "application/vnd.jupyter.widget-view+json": {
              "model_id": "e3a1b72b97aa42169834d2412d0a525f",
              "version_major": 2,
              "version_minor": 0
            },
            "text/plain": [
              "  0%|          | 0/116 [00:00<?, ?it/s]"
            ]
          },
          "metadata": {},
          "output_type": "display_data"
        },
        {
          "name": "stdout",
          "output_type": "stream",
          "text": [
            "train_loss=0.0064,             val_loss=0.0486,             train_acc=0.9700,             val_acc=0.5751\n",
            "Epoch 44/45\n"
          ]
        },
        {
          "data": {
            "application/vnd.jupyter.widget-view+json": {
              "model_id": "af46116d46e341b49d331d0f5f0846ac",
              "version_major": 2,
              "version_minor": 0
            },
            "text/plain": [
              "  0%|          | 0/116 [00:00<?, ?it/s]"
            ]
          },
          "metadata": {},
          "output_type": "display_data"
        },
        {
          "name": "stdout",
          "output_type": "stream",
          "text": [
            "train_loss=0.0061,             val_loss=0.0480,             train_acc=0.9738,             val_acc=0.5935\n",
            "Epoch 45/45\n"
          ]
        },
        {
          "data": {
            "application/vnd.jupyter.widget-view+json": {
              "model_id": "4ebcb4021b1f48eb84df8792a70068c5",
              "version_major": 2,
              "version_minor": 0
            },
            "text/plain": [
              "  0%|          | 0/116 [00:00<?, ?it/s]"
            ]
          },
          "metadata": {},
          "output_type": "display_data"
        },
        {
          "name": "stdout",
          "output_type": "stream",
          "text": [
            "train_loss=0.0058,             val_loss=0.0488,             train_acc=0.9765,             val_acc=0.5935\n"
          ]
        }
      ],
      "source": [
        "from collections import defaultdict\n",
        "import tqdm.notebook as tq\n",
        "\n",
        "\n",
        "history = defaultdict(list)\n",
        "best_accuracy = 0\n",
        "\n",
        "for epoch in range(1, EPOCHS + 1):\n",
        "    print(f'Epoch {epoch}/{EPOCHS}')\n",
        "\n",
        "    model, train_acc, train_loss = train_model(\n",
        "        train_data_loader,\n",
        "        model,\n",
        "        optimizer\n",
        "        )\n",
        "\n",
        "    val_acc, val_loss = eval_model(\n",
        "        val_data_loader,\n",
        "        model,\n",
        "        optimizer\n",
        "        )\n",
        "\n",
        "    print(f'train_loss={train_loss:.4f}, \\\n",
        "            val_loss={val_loss:.4f}, \\\n",
        "            train_acc={train_acc:.4f}, \\\n",
        "            val_acc={val_acc:.4f}')\n",
        "\n",
        "    history['train_acc'].append(train_acc)\n",
        "    history['train_loss'].append(train_loss)\n",
        "    history['val_acc'].append(val_acc)\n",
        "    history['val_loss'].append(val_loss)\n",
        "\n",
        "    # save the best model\n",
        "    if val_acc > best_accuracy:\n",
        "        torch.save(model.state_dict(), \"ruroberta-ecom-tech-best.pth\")\n",
        "        best_accuracy = val_acc"
      ]
    },
    {
      "cell_type": "markdown",
      "id": "59626337",
      "metadata": {
        "id": "59626337",
        "papermill": {
          "duration": 0.078049,
          "end_time": "2024-10-29T07:09:02.942283",
          "exception": false,
          "start_time": "2024-10-29T07:09:02.864234",
          "status": "completed"
        },
        "tags": []
      },
      "source": [
        "# Валидация модели"
      ]
    },
    {
      "cell_type": "markdown",
      "id": "71f1e1ba",
      "metadata": {
        "id": "71f1e1ba",
        "papermill": {
          "duration": 0.078092,
          "end_time": "2024-10-29T07:09:03.098262",
          "exception": false,
          "start_time": "2024-10-29T07:09:03.020170",
          "status": "completed"
        },
        "tags": []
      },
      "source": [
        "Ещё раз проведём валидацию модели и посмотрим, где модель больше всего ошибается, на каких классах."
      ]
    },
    {
      "cell_type": "code",
      "execution_count": null,
      "id": "1e7a89d7",
      "metadata": {
        "execution": {
          "iopub.execute_input": "2024-10-29T07:09:03.257132Z",
          "iopub.status.busy": "2024-10-29T07:09:03.256763Z",
          "iopub.status.idle": "2024-10-29T07:09:03.261307Z",
          "shell.execute_reply": "2024-10-29T07:09:03.260380Z"
        },
        "id": "1e7a89d7",
        "papermill": {
          "duration": 0.08618,
          "end_time": "2024-10-29T07:09:03.263334",
          "exception": false,
          "start_time": "2024-10-29T07:09:03.177154",
          "status": "completed"
        },
        "tags": []
      },
      "outputs": [],
      "source": [
        "from sklearn.metrics import confusion_matrix, classification_report"
      ]
    },
    {
      "cell_type": "code",
      "execution_count": null,
      "id": "0a8cbf33",
      "metadata": {
        "execution": {
          "iopub.execute_input": "2024-10-29T07:09:03.423374Z",
          "iopub.status.busy": "2024-10-29T07:09:03.423052Z",
          "iopub.status.idle": "2024-10-29T07:09:03.432637Z",
          "shell.execute_reply": "2024-10-29T07:09:03.431753Z"
        },
        "id": "0a8cbf33",
        "papermill": {
          "duration": 0.0929,
          "end_time": "2024-10-29T07:09:03.434572",
          "exception": false,
          "start_time": "2024-10-29T07:09:03.341672",
          "status": "completed"
        },
        "tags": []
      },
      "outputs": [],
      "source": [
        "def get_predictions(model, data_loader):\n",
        "    '''Получение предсказаний на валидационных данных'''\n",
        "    model = model.eval()\n",
        "\n",
        "    texts = []\n",
        "    predictions = []\n",
        "    prediction_probs = []\n",
        "    target_values = []\n",
        "\n",
        "    with torch.no_grad():\n",
        "      for data in data_loader:\n",
        "        text = data[\"text\"]\n",
        "        ids = data[\"input_ids\"].to(device, dtype = torch.long)\n",
        "        mask = data[\"attention_mask\"].to(device, dtype = torch.long)\n",
        "        token_type_ids = data['token_type_ids'].to(device, dtype = torch.long)\n",
        "        targets = data[\"targets\"].to(device, dtype = torch.float)\n",
        "\n",
        "        outputs = model(ids, mask, token_type_ids)\n",
        "        outputs = torch.sigmoid(outputs).detach().cpu()\n",
        "\n",
        "        preds = outputs.round()\n",
        "        targets = targets.detach().cpu()\n",
        "\n",
        "        texts.extend(text)\n",
        "        predictions.extend(preds)\n",
        "        prediction_probs.extend(outputs)\n",
        "        target_values.extend(targets)\n",
        "\n",
        "    predictions = torch.stack(predictions)\n",
        "    prediction_probs = torch.stack(prediction_probs)\n",
        "    target_values = torch.stack(target_values)\n",
        "\n",
        "    return texts, predictions, prediction_probs, target_values"
      ]
    },
    {
      "cell_type": "code",
      "execution_count": null,
      "id": "3165f566",
      "metadata": {
        "execution": {
          "iopub.execute_input": "2024-10-29T07:09:03.592943Z",
          "iopub.status.busy": "2024-10-29T07:09:03.592639Z",
          "iopub.status.idle": "2024-10-29T07:09:15.093916Z",
          "shell.execute_reply": "2024-10-29T07:09:15.093114Z"
        },
        "id": "3165f566",
        "papermill": {
          "duration": 11.583059,
          "end_time": "2024-10-29T07:09:15.096201",
          "exception": false,
          "start_time": "2024-10-29T07:09:03.513142",
          "status": "completed"
        },
        "tags": []
      },
      "outputs": [],
      "source": [
        "texts, predictions, prediction_probs, target_values = get_predictions(model, val_data_loader)"
      ]
    },
    {
      "cell_type": "code",
      "execution_count": null,
      "id": "d11852a0",
      "metadata": {
        "execution": {
          "iopub.execute_input": "2024-10-29T07:09:15.257530Z",
          "iopub.status.busy": "2024-10-29T07:09:15.256849Z",
          "iopub.status.idle": "2024-10-29T07:09:15.279747Z",
          "shell.execute_reply": "2024-10-29T07:09:15.278757Z"
        },
        "id": "d11852a0",
        "papermill": {
          "duration": 0.105621,
          "end_time": "2024-10-29T07:09:15.281678",
          "exception": false,
          "start_time": "2024-10-29T07:09:15.176057",
          "status": "completed"
        },
        "tags": [],
        "outputId": "310dc466-31bc-4529-a6af-c27842d7ad3b"
      },
      "outputs": [
        {
          "name": "stdout",
          "output_type": "stream",
          "text": [
            "                precision    recall  f1-score   support\n",
            "\n",
            " trend_id_res0       0.84      0.77      0.81       176\n",
            " trend_id_res1       0.79      0.88      0.83        77\n",
            " trend_id_res2       0.78      0.68      0.72       111\n",
            " trend_id_res3       0.62      0.83      0.71        72\n",
            " trend_id_res4       0.45      0.56      0.50        18\n",
            " trend_id_res5       0.78      0.88      0.82         8\n",
            " trend_id_res6       1.00      0.60      0.75         5\n",
            " trend_id_res7       0.75      0.75      0.75         8\n",
            " trend_id_res8       0.78      0.81      0.79        31\n",
            " trend_id_res9       0.00      0.00      0.00         1\n",
            "trend_id_res10       0.54      0.70      0.61        20\n",
            "trend_id_res11       0.86      0.86      0.86        21\n",
            "trend_id_res12       0.92      0.96      0.94       133\n",
            "trend_id_res13       0.50      0.40      0.44         5\n",
            "trend_id_res14       0.47      0.64      0.54        11\n",
            "trend_id_res15       0.71      0.67      0.69        15\n",
            "trend_id_res16       0.76      0.64      0.70        25\n",
            "trend_id_res17       0.00      0.00      0.00         1\n",
            "trend_id_res18       0.64      0.84      0.73        43\n",
            "trend_id_res19       0.85      0.71      0.77        75\n",
            "trend_id_res20       0.64      0.58      0.61        24\n",
            "trend_id_res21       0.63      0.75      0.69        16\n",
            "trend_id_res22       0.50      0.29      0.36         7\n",
            "trend_id_res23       0.75      0.60      0.67        10\n",
            "trend_id_res24       0.50      1.00      0.67         1\n",
            "trend_id_res25       0.00      0.00      0.00         0\n",
            "trend_id_res26       1.00      0.17      0.29         6\n",
            "trend_id_res27       0.79      0.74      0.77        97\n",
            "trend_id_res28       0.80      0.95      0.87        81\n",
            "trend_id_res29       0.80      0.36      0.50        11\n",
            "trend_id_res30       0.88      0.87      0.88        53\n",
            "trend_id_res31       0.62      0.56      0.59         9\n",
            "trend_id_res32       0.00      0.00      0.00         3\n",
            "trend_id_res33       0.67      1.00      0.80         2\n",
            "trend_id_res34       0.00      0.00      0.00         1\n",
            "trend_id_res35       0.70      1.00      0.82         7\n",
            "trend_id_res36       0.90      0.53      0.67        36\n",
            "trend_id_res37       0.80      0.89      0.84         9\n",
            "trend_id_res38       1.00      0.75      0.86         4\n",
            "trend_id_res39       0.50      0.12      0.20         8\n",
            "trend_id_res40       0.53      0.47      0.50        19\n",
            "trend_id_res41       0.00      0.00      0.00         5\n",
            "trend_id_res42       1.00      0.57      0.73         7\n",
            "trend_id_res43       0.20      0.25      0.22         4\n",
            "trend_id_res44       0.00      0.00      0.00         1\n",
            "trend_id_res45       0.00      0.00      0.00         5\n",
            "trend_id_res46       0.00      0.00      0.00         1\n",
            "trend_id_res47       0.80      0.44      0.57         9\n",
            "trend_id_res48       0.86      1.00      0.92         6\n",
            "trend_id_res49       0.00      0.00      0.00         2\n",
            "\n",
            "     micro avg       0.77      0.75      0.76      1300\n",
            "     macro avg       0.58      0.54      0.54      1300\n",
            "  weighted avg       0.77      0.75      0.75      1300\n",
            "   samples avg       0.77      0.77      0.75      1300\n",
            "\n"
          ]
        }
      ],
      "source": [
        "print(classification_report(target_values, predictions, target_names=targets))"
      ]
    },
    {
      "cell_type": "markdown",
      "id": "152f84e3",
      "metadata": {
        "id": "152f84e3",
        "papermill": {
          "duration": 0.078462,
          "end_time": "2024-10-29T07:09:15.439165",
          "exception": false,
          "start_time": "2024-10-29T07:09:15.360703",
          "status": "completed"
        },
        "tags": []
      },
      "source": [
        "# График ecom.tech accuracy"
      ]
    },
    {
      "cell_type": "markdown",
      "id": "814eddc4",
      "metadata": {
        "id": "814eddc4",
        "papermill": {
          "duration": 0.078112,
          "end_time": "2024-10-29T07:09:15.595281",
          "exception": false,
          "start_time": "2024-10-29T07:09:15.517169",
          "status": "completed"
        },
        "tags": []
      },
      "source": [
        "Посмотрим, как на тренировочных и валидационных данных менялся размер метрики, составленной в ходе соревнования."
      ]
    },
    {
      "cell_type": "code",
      "execution_count": null,
      "id": "bf8369c6",
      "metadata": {
        "execution": {
          "iopub.execute_input": "2024-10-29T07:09:15.754258Z",
          "iopub.status.busy": "2024-10-29T07:09:15.753925Z",
          "iopub.status.idle": "2024-10-29T07:09:15.758184Z",
          "shell.execute_reply": "2024-10-29T07:09:15.757288Z"
        },
        "id": "bf8369c6",
        "papermill": {
          "duration": 0.085931,
          "end_time": "2024-10-29T07:09:15.760071",
          "exception": false,
          "start_time": "2024-10-29T07:09:15.674140",
          "status": "completed"
        },
        "tags": []
      },
      "outputs": [],
      "source": [
        "import matplotlib.pyplot as plt"
      ]
    },
    {
      "cell_type": "code",
      "execution_count": null,
      "id": "afbffa37",
      "metadata": {
        "execution": {
          "iopub.execute_input": "2024-10-29T07:09:15.919439Z",
          "iopub.status.busy": "2024-10-29T07:09:15.919106Z",
          "iopub.status.idle": "2024-10-29T07:09:16.240743Z",
          "shell.execute_reply": "2024-10-29T07:09:16.239781Z"
        },
        "id": "afbffa37",
        "papermill": {
          "duration": 0.4042,
          "end_time": "2024-10-29T07:09:16.242984",
          "exception": false,
          "start_time": "2024-10-29T07:09:15.838784",
          "status": "completed"
        },
        "tags": [],
        "outputId": "417b8adb-15c8-4d69-bba0-e1838fa969c9"
      },
      "outputs": [
        {
          "data": {
            "image/png": "[encoded data removed]",
            "text/plain": [
              "<Figure size 1000x700 with 1 Axes>"
            ]
          },
          "metadata": {},
          "output_type": "display_data"
        }
      ],
      "source": [
        "plt.rcParams[\"figure.figsize\"] = (10,7)\n",
        "\n",
        "plt.plot(history['train_acc'], label='train accuracy')\n",
        "plt.plot(history['val_acc'], label='validation accuracy')\n",
        "\n",
        "plt.title('Training history')\n",
        "plt.ylabel('Accuracy')\n",
        "plt.xlabel('Epoch')\n",
        "\n",
        "plt.legend()\n",
        "plt.ylim([0, 1]);\n",
        "plt.grid()\n",
        "plt.show()"
      ]
    },
    {
      "cell_type": "markdown",
      "id": "9cffcdb4",
      "metadata": {
        "id": "9cffcdb4",
        "papermill": {
          "duration": 0.080672,
          "end_time": "2024-10-29T07:09:16.405696",
          "exception": false,
          "start_time": "2024-10-29T07:09:16.325024",
          "status": "completed"
        },
        "tags": []
      },
      "source": [
        "# Итого"
      ]
    },
    {
      "cell_type": "markdown",
      "id": "c22157e4",
      "metadata": {
        "id": "c22157e4",
        "papermill": {
          "duration": 0.082588,
          "end_time": "2024-10-29T07:09:16.568594",
          "exception": false,
          "start_time": "2024-10-29T07:09:16.486006",
          "status": "completed"
        },
        "tags": []
      },
      "source": [
        "Чтобы не загружать один ноутбук и дообучением, и прогнозами, было принято решение разделить ноутбук на две части. Ноутбук `Samoilov Vadim ecom.tech NLP Prediction` использовавлся для выполнения предсказаний, которые затем заливались на воркшоп. Просьба пройти в данный ноутбук и быть готовым загрузить туда полученную модель - по дефолту она имеет название `ruroberta-ecom-tech-best.pth`."
      ]
    },
    {
      "cell_type": "markdown",
      "id": "b3bcc746",
      "metadata": {
        "id": "b3bcc746",
        "papermill": {
          "duration": 0.080257,
          "end_time": "2024-10-29T07:09:16.730583",
          "exception": false,
          "start_time": "2024-10-29T07:09:16.650326",
          "status": "completed"
        },
        "tags": []
      },
      "source": [
        "Благодарю за уделённое время моей работе! Увидимся во второй части - `Samoilov Vadim ecom.tech NLP Prediction`!\n"
      ]
    },
    {
      "cell_type": "markdown",
      "id": "05d4f0a9",
      "metadata": {
        "papermill": {
          "duration": 0.084958,
          "end_time": "2024-10-29T07:09:16.895394",
          "exception": false,
          "start_time": "2024-10-29T07:09:16.810436",
          "status": "completed"
        },
        "tags": [],
        "id": "05d4f0a9"
      },
      "source": [
        "# Прочие эксперименты (после финала соревнования)"
      ]
    },
    {
      "cell_type": "markdown",
      "id": "5c1f06e5",
      "metadata": {
        "papermill": {
          "duration": 0.079566,
          "end_time": "2024-10-29T07:09:17.058965",
          "exception": false,
          "start_time": "2024-10-29T07:09:16.979399",
          "status": "completed"
        },
        "tags": [],
        "id": "5c1f06e5"
      },
      "source": [
        "## Работа с размеченными данными"
      ]
    },
    {
      "cell_type": "markdown",
      "id": "23cc16a5",
      "metadata": {
        "papermill": {
          "duration": 0.080042,
          "end_time": "2024-10-29T07:09:17.218686",
          "exception": false,
          "start_time": "2024-10-29T07:09:17.138644",
          "status": "completed"
        },
        "tags": [],
        "id": "23cc16a5"
      },
      "source": [
        "Попробуем использовать всю информацию из нашего датасета, а именно используем помимо текста ещё `tags` и `assessment`."
      ]
    },
    {
      "cell_type": "code",
      "execution_count": null,
      "id": "8825fe42",
      "metadata": {
        "execution": {
          "iopub.execute_input": "2024-10-29T07:09:17.382518Z",
          "iopub.status.busy": "2024-10-29T07:09:17.382110Z",
          "iopub.status.idle": "2024-10-29T07:09:17.440957Z",
          "shell.execute_reply": "2024-10-29T07:09:17.440048Z"
        },
        "papermill": {
          "duration": 0.142466,
          "end_time": "2024-10-29T07:09:17.442993",
          "exception": false,
          "start_time": "2024-10-29T07:09:17.300527",
          "status": "completed"
        },
        "tags": [],
        "id": "8825fe42"
      },
      "outputs": [],
      "source": [
        "train_df = pd.read_csv(\n",
        "    '/kaggle/input/ecom-tech-dataset-text-multi-label-classification/train.csv.csv'\n",
        "    ).drop(['Unnamed: 0', 'index'], axis=1)"
      ]
    },
    {
      "cell_type": "code",
      "execution_count": null,
      "id": "37be4c77",
      "metadata": {
        "execution": {
          "iopub.execute_input": "2024-10-29T07:09:17.608147Z",
          "iopub.status.busy": "2024-10-29T07:09:17.607516Z",
          "iopub.status.idle": "2024-10-29T07:09:17.629533Z",
          "shell.execute_reply": "2024-10-29T07:09:17.628824Z"
        },
        "papermill": {
          "duration": 0.107107,
          "end_time": "2024-10-29T07:09:17.631347",
          "exception": false,
          "start_time": "2024-10-29T07:09:17.524240",
          "status": "completed"
        },
        "tags": [],
        "id": "37be4c77"
      },
      "outputs": [],
      "source": [
        "train_df[[f'trend_id_res{i}' for i in range(50)]] = train_df[[f'trend_id_res{i}' for i in range(50)]].astype(bool)\n",
        "train_df['text'] = train_df['text'].astype(str)\n",
        "train_df['tags'] = train_df['tags'].fillna('').str.strip('{}').str.split(',')"
      ]
    },
    {
      "cell_type": "code",
      "execution_count": null,
      "id": "c9f942cf",
      "metadata": {
        "execution": {
          "iopub.execute_input": "2024-10-29T07:09:17.796613Z",
          "iopub.status.busy": "2024-10-29T07:09:17.795929Z",
          "iopub.status.idle": "2024-10-29T07:09:17.820490Z",
          "shell.execute_reply": "2024-10-29T07:09:17.819644Z"
        },
        "papermill": {
          "duration": 0.110879,
          "end_time": "2024-10-29T07:09:17.822441",
          "exception": false,
          "start_time": "2024-10-29T07:09:17.711562",
          "status": "completed"
        },
        "tags": [],
        "id": "c9f942cf",
        "outputId": "5ae9a2e1-286b-4018-e02e-c57614158471"
      },
      "outputs": [
        {
          "data": {
            "text/html": [
              "<div>\n",
              "<style scoped>\n",
              "    .dataframe tbody tr th:only-of-type {\n",
              "        vertical-align: middle;\n",
              "    }\n",
              "\n",
              "    .dataframe tbody tr th {\n",
              "        vertical-align: top;\n",
              "    }\n",
              "\n",
              "    .dataframe thead th {\n",
              "        text-align: right;\n",
              "    }\n",
              "</style>\n",
              "<table border=\"1\" class=\"dataframe\">\n",
              "  <thead>\n",
              "    <tr style=\"text-align: right;\">\n",
              "      <th></th>\n",
              "      <th>assessment</th>\n",
              "      <th>tags</th>\n",
              "      <th>text</th>\n",
              "      <th>trend_id_res0</th>\n",
              "      <th>trend_id_res1</th>\n",
              "      <th>trend_id_res2</th>\n",
              "      <th>trend_id_res3</th>\n",
              "      <th>trend_id_res4</th>\n",
              "      <th>trend_id_res5</th>\n",
              "      <th>trend_id_res6</th>\n",
              "      <th>...</th>\n",
              "      <th>trend_id_res40</th>\n",
              "      <th>trend_id_res41</th>\n",
              "      <th>trend_id_res42</th>\n",
              "      <th>trend_id_res43</th>\n",
              "      <th>trend_id_res44</th>\n",
              "      <th>trend_id_res45</th>\n",
              "      <th>trend_id_res46</th>\n",
              "      <th>trend_id_res47</th>\n",
              "      <th>trend_id_res48</th>\n",
              "      <th>trend_id_res49</th>\n",
              "    </tr>\n",
              "  </thead>\n",
              "  <tbody>\n",
              "    <tr>\n",
              "      <th>0</th>\n",
              "      <td>6.0</td>\n",
              "      <td>[ASSORTMENT, PROMOTIONS, DELIVERY]</td>\n",
              "      <td>Маленький выбор товаров, хотелось бы ассортиме...</td>\n",
              "      <td>False</td>\n",
              "      <td>False</td>\n",
              "      <td>False</td>\n",
              "      <td>False</td>\n",
              "      <td>False</td>\n",
              "      <td>False</td>\n",
              "      <td>False</td>\n",
              "      <td>...</td>\n",
              "      <td>False</td>\n",
              "      <td>False</td>\n",
              "      <td>False</td>\n",
              "      <td>False</td>\n",
              "      <td>False</td>\n",
              "      <td>False</td>\n",
              "      <td>False</td>\n",
              "      <td>False</td>\n",
              "      <td>False</td>\n",
              "      <td>False</td>\n",
              "    </tr>\n",
              "    <tr>\n",
              "      <th>1</th>\n",
              "      <td>4.0</td>\n",
              "      <td>[ASSORTMENT, PRICE, PRODUCTS_QUALITY, DELIVERY]</td>\n",
              "      <td>Быстро</td>\n",
              "      <td>False</td>\n",
              "      <td>False</td>\n",
              "      <td>False</td>\n",
              "      <td>False</td>\n",
              "      <td>False</td>\n",
              "      <td>False</td>\n",
              "      <td>False</td>\n",
              "      <td>...</td>\n",
              "      <td>False</td>\n",
              "      <td>False</td>\n",
              "      <td>False</td>\n",
              "      <td>False</td>\n",
              "      <td>False</td>\n",
              "      <td>False</td>\n",
              "      <td>False</td>\n",
              "      <td>False</td>\n",
              "      <td>False</td>\n",
              "      <td>False</td>\n",
              "    </tr>\n",
              "    <tr>\n",
              "      <th>2</th>\n",
              "      <td>6.0</td>\n",
              "      <td>[DELIVERY, PROMOTIONS, PRICE, ASSORTMENT, SUPP...</td>\n",
              "      <td>Доставка постоянно задерживается</td>\n",
              "      <td>False</td>\n",
              "      <td>False</td>\n",
              "      <td>False</td>\n",
              "      <td>True</td>\n",
              "      <td>False</td>\n",
              "      <td>False</td>\n",
              "      <td>False</td>\n",
              "      <td>...</td>\n",
              "      <td>False</td>\n",
              "      <td>False</td>\n",
              "      <td>False</td>\n",
              "      <td>False</td>\n",
              "      <td>False</td>\n",
              "      <td>False</td>\n",
              "      <td>False</td>\n",
              "      <td>False</td>\n",
              "      <td>False</td>\n",
              "      <td>False</td>\n",
              "    </tr>\n",
              "    <tr>\n",
              "      <th>3</th>\n",
              "      <td>6.0</td>\n",
              "      <td>[PRICE, PROMOTIONS, ASSORTMENT]</td>\n",
              "      <td>Наценка и ассортимент расстраивают</td>\n",
              "      <td>False</td>\n",
              "      <td>False</td>\n",
              "      <td>False</td>\n",
              "      <td>False</td>\n",
              "      <td>False</td>\n",
              "      <td>False</td>\n",
              "      <td>False</td>\n",
              "      <td>...</td>\n",
              "      <td>False</td>\n",
              "      <td>False</td>\n",
              "      <td>False</td>\n",
              "      <td>False</td>\n",
              "      <td>False</td>\n",
              "      <td>False</td>\n",
              "      <td>False</td>\n",
              "      <td>False</td>\n",
              "      <td>False</td>\n",
              "      <td>False</td>\n",
              "    </tr>\n",
              "    <tr>\n",
              "      <th>4</th>\n",
              "      <td>6.0</td>\n",
              "      <td>[PRICE, PROMOTIONS]</td>\n",
              "      <td>Можно немного скинуть минимальную сумму заказа...</td>\n",
              "      <td>False</td>\n",
              "      <td>False</td>\n",
              "      <td>False</td>\n",
              "      <td>False</td>\n",
              "      <td>False</td>\n",
              "      <td>False</td>\n",
              "      <td>False</td>\n",
              "      <td>...</td>\n",
              "      <td>False</td>\n",
              "      <td>False</td>\n",
              "      <td>False</td>\n",
              "      <td>False</td>\n",
              "      <td>False</td>\n",
              "      <td>False</td>\n",
              "      <td>False</td>\n",
              "      <td>False</td>\n",
              "      <td>False</td>\n",
              "      <td>False</td>\n",
              "    </tr>\n",
              "  </tbody>\n",
              "</table>\n",
              "<p>5 rows × 53 columns</p>\n",
              "</div>"
            ],
            "text/plain": [
              "   assessment                                               tags  \\\n",
              "0         6.0                 [ASSORTMENT, PROMOTIONS, DELIVERY]   \n",
              "1         4.0    [ASSORTMENT, PRICE, PRODUCTS_QUALITY, DELIVERY]   \n",
              "2         6.0  [DELIVERY, PROMOTIONS, PRICE, ASSORTMENT, SUPP...   \n",
              "3         6.0                    [PRICE, PROMOTIONS, ASSORTMENT]   \n",
              "4         6.0                                [PRICE, PROMOTIONS]   \n",
              "\n",
              "                                                text  trend_id_res0  \\\n",
              "0  Маленький выбор товаров, хотелось бы ассортиме...          False   \n",
              "1                                             Быстро          False   \n",
              "2                   Доставка постоянно задерживается          False   \n",
              "3                 Наценка и ассортимент расстраивают          False   \n",
              "4  Можно немного скинуть минимальную сумму заказа...          False   \n",
              "\n",
              "   trend_id_res1  trend_id_res2  trend_id_res3  trend_id_res4  trend_id_res5  \\\n",
              "0          False          False          False          False          False   \n",
              "1          False          False          False          False          False   \n",
              "2          False          False           True          False          False   \n",
              "3          False          False          False          False          False   \n",
              "4          False          False          False          False          False   \n",
              "\n",
              "   trend_id_res6  ...  trend_id_res40  trend_id_res41  trend_id_res42  \\\n",
              "0          False  ...           False           False           False   \n",
              "1          False  ...           False           False           False   \n",
              "2          False  ...           False           False           False   \n",
              "3          False  ...           False           False           False   \n",
              "4          False  ...           False           False           False   \n",
              "\n",
              "   trend_id_res43  trend_id_res44  trend_id_res45  trend_id_res46  \\\n",
              "0           False           False           False           False   \n",
              "1           False           False           False           False   \n",
              "2           False           False           False           False   \n",
              "3           False           False           False           False   \n",
              "4           False           False           False           False   \n",
              "\n",
              "   trend_id_res47  trend_id_res48  trend_id_res49  \n",
              "0           False           False           False  \n",
              "1           False           False           False  \n",
              "2           False           False           False  \n",
              "3           False           False           False  \n",
              "4           False           False           False  \n",
              "\n",
              "[5 rows x 53 columns]"
            ]
          },
          "execution_count": 27,
          "metadata": {},
          "output_type": "execute_result"
        }
      ],
      "source": [
        "train_df.head()"
      ]
    },
    {
      "cell_type": "markdown",
      "id": "7f36f6ed",
      "metadata": {
        "papermill": {
          "duration": 0.079902,
          "end_time": "2024-10-29T07:09:17.983323",
          "exception": false,
          "start_time": "2024-10-29T07:09:17.903421",
          "status": "completed"
        },
        "tags": [],
        "id": "7f36f6ed"
      },
      "source": [
        "Далее тэги и оценку вставим прямо в сам текст."
      ]
    },
    {
      "cell_type": "code",
      "execution_count": null,
      "id": "27ba59c8",
      "metadata": {
        "execution": {
          "iopub.execute_input": "2024-10-29T07:09:18.144127Z",
          "iopub.status.busy": "2024-10-29T07:09:18.143501Z",
          "iopub.status.idle": "2024-10-29T07:09:18.251764Z",
          "shell.execute_reply": "2024-10-29T07:09:18.250832Z"
        },
        "papermill": {
          "duration": 0.191081,
          "end_time": "2024-10-29T07:09:18.253816",
          "exception": false,
          "start_time": "2024-10-29T07:09:18.062735",
          "status": "completed"
        },
        "tags": [],
        "id": "27ba59c8"
      },
      "outputs": [],
      "source": [
        "def transform_text(row):\n",
        "    string = f'''Отзыв: {row['text']}, тэги: {', '.join(row['tags'])}, оценка: {row['assessment']}'''\n",
        "    return string\n",
        "\n",
        "train_df['text'] = train_df.apply(transform_text, axis=1)"
      ]
    },
    {
      "cell_type": "code",
      "execution_count": null,
      "id": "6ce1a45a",
      "metadata": {
        "execution": {
          "iopub.execute_input": "2024-10-29T07:09:18.416795Z",
          "iopub.status.busy": "2024-10-29T07:09:18.416408Z",
          "iopub.status.idle": "2024-10-29T07:09:18.422543Z",
          "shell.execute_reply": "2024-10-29T07:09:18.421675Z"
        },
        "papermill": {
          "duration": 0.089977,
          "end_time": "2024-10-29T07:09:18.424424",
          "exception": false,
          "start_time": "2024-10-29T07:09:18.334447",
          "status": "completed"
        },
        "tags": [],
        "id": "6ce1a45a",
        "outputId": "36232e03-6c56-4ed7-cea5-978eabdb84dc"
      },
      "outputs": [
        {
          "data": {
            "text/plain": [
              "'Отзыв: Маленький выбор товаров, хотелось бы ассортимент больше, а так вроде бы все хорошо, тэги: ASSORTMENT, PROMOTIONS, DELIVERY, оценка: 6.0'"
            ]
          },
          "execution_count": 29,
          "metadata": {},
          "output_type": "execute_result"
        }
      ],
      "source": [
        "train_df.iloc[0].text"
      ]
    },
    {
      "cell_type": "markdown",
      "id": "8f4b4c85",
      "metadata": {
        "papermill": {
          "duration": 0.08011,
          "end_time": "2024-10-29T07:09:18.626934",
          "exception": false,
          "start_time": "2024-10-29T07:09:18.546824",
          "status": "completed"
        },
        "tags": [],
        "id": "8f4b4c85"
      },
      "source": [
        "Будем далее работать с такими данными, то есть наш текст содержит отзыв пользователя, поставленные им тэги и оценка."
      ]
    },
    {
      "cell_type": "code",
      "execution_count": null,
      "id": "c3ffee15",
      "metadata": {
        "execution": {
          "iopub.execute_input": "2024-10-29T07:09:18.790555Z",
          "iopub.status.busy": "2024-10-29T07:09:18.789550Z",
          "iopub.status.idle": "2024-10-29T07:09:18.797523Z",
          "shell.execute_reply": "2024-10-29T07:09:18.796630Z"
        },
        "papermill": {
          "duration": 0.092564,
          "end_time": "2024-10-29T07:09:18.799500",
          "exception": false,
          "start_time": "2024-10-29T07:09:18.706936",
          "status": "completed"
        },
        "tags": [],
        "id": "c3ffee15"
      },
      "outputs": [],
      "source": [
        "train_df = train_df.drop(['assessment', 'tags'], axis=1)"
      ]
    },
    {
      "cell_type": "code",
      "execution_count": null,
      "id": "c0dfecb9",
      "metadata": {
        "execution": {
          "iopub.execute_input": "2024-10-29T07:09:18.978755Z",
          "iopub.status.busy": "2024-10-29T07:09:18.978346Z",
          "iopub.status.idle": "2024-10-29T07:09:18.989070Z",
          "shell.execute_reply": "2024-10-29T07:09:18.988144Z"
        },
        "papermill": {
          "duration": 0.11106,
          "end_time": "2024-10-29T07:09:18.991108",
          "exception": false,
          "start_time": "2024-10-29T07:09:18.880048",
          "status": "completed"
        },
        "tags": [],
        "id": "c0dfecb9"
      },
      "outputs": [],
      "source": [
        "train_data, val_data = train_test_split(\n",
        "    train_df,\n",
        "    random_state=RANDOM_STATE,\n",
        "    test_size=0.2\n",
        "    )"
      ]
    },
    {
      "cell_type": "code",
      "execution_count": null,
      "id": "22bdbcef",
      "metadata": {
        "execution": {
          "iopub.execute_input": "2024-10-29T07:09:19.153787Z",
          "iopub.status.busy": "2024-10-29T07:09:19.153211Z",
          "iopub.status.idle": "2024-10-29T07:09:19.164363Z",
          "shell.execute_reply": "2024-10-29T07:09:19.163506Z"
        },
        "papermill": {
          "duration": 0.09453,
          "end_time": "2024-10-29T07:09:19.166390",
          "exception": false,
          "start_time": "2024-10-29T07:09:19.071860",
          "status": "completed"
        },
        "tags": [],
        "id": "22bdbcef"
      },
      "outputs": [],
      "source": [
        "train_dataset = CustomDataset(train_data, tokenizer, MAX_LEN, targets)\n",
        "val_dataset = CustomDataset(val_data, tokenizer, MAX_LEN, targets)"
      ]
    },
    {
      "cell_type": "code",
      "execution_count": null,
      "id": "7a9402ec",
      "metadata": {
        "execution": {
          "iopub.execute_input": "2024-10-29T07:09:19.328822Z",
          "iopub.status.busy": "2024-10-29T07:09:19.328246Z",
          "iopub.status.idle": "2024-10-29T07:09:19.333423Z",
          "shell.execute_reply": "2024-10-29T07:09:19.332605Z"
        },
        "papermill": {
          "duration": 0.087557,
          "end_time": "2024-10-29T07:09:19.335385",
          "exception": false,
          "start_time": "2024-10-29T07:09:19.247828",
          "status": "completed"
        },
        "tags": [],
        "id": "7a9402ec"
      },
      "outputs": [],
      "source": [
        "train_data_loader = torch.utils.data.DataLoader(\n",
        "    train_dataset,\n",
        "    batch_size=BATCH_SIZE,\n",
        "    shuffle=True,\n",
        "    num_workers=0\n",
        ")\n",
        "\n",
        "\n",
        "val_data_loader = torch.utils.data.DataLoader(\n",
        "    val_dataset,\n",
        "    batch_size=BATCH_SIZE,\n",
        "    shuffle=False,\n",
        "    num_workers=0\n",
        ")"
      ]
    },
    {
      "cell_type": "code",
      "execution_count": null,
      "id": "123669a9",
      "metadata": {
        "execution": {
          "iopub.execute_input": "2024-10-29T07:09:19.495926Z",
          "iopub.status.busy": "2024-10-29T07:09:19.495608Z",
          "iopub.status.idle": "2024-10-29T07:09:19.507097Z",
          "shell.execute_reply": "2024-10-29T07:09:19.506206Z"
        },
        "papermill": {
          "duration": 0.093519,
          "end_time": "2024-10-29T07:09:19.508915",
          "exception": false,
          "start_time": "2024-10-29T07:09:19.415396",
          "status": "completed"
        },
        "tags": [],
        "id": "123669a9",
        "outputId": "9f2504c6-337d-430c-c736-de0aa2b886ff"
      },
      "outputs": [
        {
          "data": {
            "text/plain": [
              "{'input_ids': tensor([    1,  3131,   317,   471,    30,  1506,    16,   451,  3362,    50,\n",
              "         25602,    65,   283,    18,   289,  3362,    50, 25602,    65,  1003,\n",
              "            18,   664,  2007,  1528,   332,  3634,  4777,  4789,  1011, 36142,\n",
              "            16,  3009,  7219,    16,   305,   552,  1181,    30, 50062,    55,\n",
              "            51, 44189,    49,    41, 23540,    16,  2378,    54,    45,    39,\n",
              "            41,    16,  3271,    41,    48, 19233, 17881,    61,    16, 25318,\n",
              "            30,  1383,    18,    20,     2,     0,     0,     0,     0,     0,\n",
              "             0,     0,     0,     0,     0,     0,     0,     0,     0,     0,\n",
              "             0,     0,     0,     0,     0,     0,     0,     0,     0,     0,\n",
              "             0,     0,     0,     0,     0,     0,     0,     0,     0,     0,\n",
              "             0,     0,     0,     0,     0,     0,     0,     0,     0,     0,\n",
              "             0,     0,     0,     0,     0,     0,     0,     0,     0,     0,\n",
              "             0,     0,     0,     0,     0,     0,     0,     0]),\n",
              " 'attention_mask': tensor([1, 1, 1, 1, 1, 1, 1, 1, 1, 1, 1, 1, 1, 1, 1, 1, 1, 1, 1, 1, 1, 1, 1, 1,\n",
              "         1, 1, 1, 1, 1, 1, 1, 1, 1, 1, 1, 1, 1, 1, 1, 1, 1, 1, 1, 1, 1, 1, 1, 1,\n",
              "         1, 1, 1, 1, 1, 1, 1, 1, 1, 1, 1, 1, 1, 1, 1, 1, 1, 0, 0, 0, 0, 0, 0, 0,\n",
              "         0, 0, 0, 0, 0, 0, 0, 0, 0, 0, 0, 0, 0, 0, 0, 0, 0, 0, 0, 0, 0, 0, 0, 0,\n",
              "         0, 0, 0, 0, 0, 0, 0, 0, 0, 0, 0, 0, 0, 0, 0, 0, 0, 0, 0, 0, 0, 0, 0, 0,\n",
              "         0, 0, 0, 0, 0, 0, 0, 0]),\n",
              " 'token_type_ids': tensor([0, 0, 0, 0, 0, 0, 0, 0, 0, 0, 0, 0, 0, 0, 0, 0, 0, 0, 0, 0, 0, 0, 0, 0,\n",
              "         0, 0, 0, 0, 0, 0, 0, 0, 0, 0, 0, 0, 0, 0, 0, 0, 0, 0, 0, 0, 0, 0, 0, 0,\n",
              "         0, 0, 0, 0, 0, 0, 0, 0, 0, 0, 0, 0, 0, 0, 0, 0, 0, 0, 0, 0, 0, 0, 0, 0,\n",
              "         0, 0, 0, 0, 0, 0, 0, 0, 0, 0, 0, 0, 0, 0, 0, 0, 0, 0, 0, 0, 0, 0, 0, 0,\n",
              "         0, 0, 0, 0, 0, 0, 0, 0, 0, 0, 0, 0, 0, 0, 0, 0, 0, 0, 0, 0, 0, 0, 0, 0,\n",
              "         0, 0, 0, 0, 0, 0, 0, 0]),\n",
              " 'text': 'Отзыв: Ну, за [NUM]ч. и [NUM] мин. мне ещё никогда не доставляли заказ... отвратительно, одним словом, тэги: ASSORTMENT, PRICE, DELIVERY, оценка: 4.0',\n",
              " 'targets': tensor([1., 0., 0., 0., 0., 0., 0., 0., 0., 0., 0., 0., 0., 0., 0., 0., 0., 0.,\n",
              "         0., 0., 0., 0., 0., 0., 0., 0., 0., 0., 0., 0., 0., 0., 0., 0., 0., 0.,\n",
              "         0., 0., 0., 0., 0., 0., 0., 0., 0., 0., 0., 0., 0., 0.])}"
            ]
          },
          "execution_count": 34,
          "metadata": {},
          "output_type": "execute_result"
        }
      ],
      "source": [
        "next(iter(train_dataset))"
      ]
    },
    {
      "cell_type": "markdown",
      "id": "629b7b15",
      "metadata": {
        "papermill": {
          "duration": 0.079515,
          "end_time": "2024-10-29T07:09:19.668495",
          "exception": false,
          "start_time": "2024-10-29T07:09:19.588980",
          "status": "completed"
        },
        "tags": [],
        "id": "629b7b15"
      },
      "source": [
        "Ещё раз объявим прежнюю модель и дообучим модель ruRobera-large."
      ]
    },
    {
      "cell_type": "code",
      "execution_count": null,
      "id": "409df71e",
      "metadata": {
        "execution": {
          "iopub.execute_input": "2024-10-29T07:09:19.831171Z",
          "iopub.status.busy": "2024-10-29T07:09:19.830404Z",
          "iopub.status.idle": "2024-10-29T07:09:21.643524Z",
          "shell.execute_reply": "2024-10-29T07:09:21.642713Z"
        },
        "papermill": {
          "duration": 1.896748,
          "end_time": "2024-10-29T07:09:21.645963",
          "exception": false,
          "start_time": "2024-10-29T07:09:19.749215",
          "status": "completed"
        },
        "tags": [],
        "id": "409df71e",
        "outputId": "79908568-a51a-4065-d77b-751c2bb65c93"
      },
      "outputs": [
        {
          "name": "stderr",
          "output_type": "stream",
          "text": [
            "Some weights of RobertaForSequenceClassification were not initialized from the model checkpoint at ai-forever/ruRoberta-large and are newly initialized: ['classifier.dense.bias', 'classifier.dense.weight', 'classifier.out_proj.bias', 'classifier.out_proj.weight']\n",
            "You should probably TRAIN this model on a down-stream task to be able to use it for predictions and inference.\n"
          ]
        }
      ],
      "source": [
        "EPOCHS = 45\n",
        "\n",
        "model = BERTClass().to(device)\n",
        "optimizer = AdamW(model.parameters(), lr = 1e-5)"
      ]
    },
    {
      "cell_type": "code",
      "execution_count": null,
      "id": "e976d5b2",
      "metadata": {
        "execution": {
          "iopub.execute_input": "2024-10-29T07:09:21.809802Z",
          "iopub.status.busy": "2024-10-29T07:09:21.809010Z",
          "iopub.status.idle": "2024-10-29T09:04:10.158423Z",
          "shell.execute_reply": "2024-10-29T09:04:10.157449Z"
        },
        "papermill": {
          "duration": 6888.525524,
          "end_time": "2024-10-29T09:04:10.253426",
          "exception": false,
          "start_time": "2024-10-29T07:09:21.727902",
          "status": "completed"
        },
        "tags": [],
        "colab": {
          "referenced_widgets": [
            "1fb453415b604eb09ee37750256dad8d",
            "0097d35666274893aad8dd6cd90d7466",
            "a3b2a9251c2b4108a8c7d15a9598eb73",
            "6a8ad0860ef8440f8b3f3541afae7273",
            "c6e91646c7cf4b2d9cf7ef8e0654aec4",
            "c900ab10835c42adbbf4a790158710ba",
            "c06832f619b24acaaa9db709cea272f9",
            "e9e0cce987874cbdb669c5a50b5d7a73",
            "88b2066b08ba4d3383d415f16ef31de2",
            "738436b8221c4cab9b358712bfa5f61a",
            "82baf597813f41c6867f9e8552f354df",
            "5b7d1ec935d149f99b4f94f49b7ae503",
            "6ae617f6873b47dbaaf8b27e0b28de35",
            "56a664fafb3044de994e2670efc80556",
            "71cb9452f13a40dabe1079cf4108d334",
            "2e9b75fa32ad44dd818f7feb6df1911c",
            "b511c0d8e46d4f03aca7ecceea990a22",
            "b9a3b01b28ed480b903fa253d4c021dc",
            "d74fde969d4f4ee5ae56f121c427762c",
            "64f260302abd4afdbdd975cdf0fa4737",
            "104f9bc2a38d49bc9412933e5ef94464",
            "1944da1905b34a06a1c0f560893869e7",
            "a46e2c4335224d10a8efa7c5afb0792a",
            "a89c429794664f5f909d79b199b07d8a",
            "caa07b67368045968019ccc8ff4c10b0",
            "309d09838b2e465fa1b9bc6fcc30675b",
            "a9168f5c7cb3462f9e30ac3947c6b464",
            "5c3204212c094e00ad0418c48ffba08a",
            "633e5df8d83f41ceb4e9dd8f0b3dfdc2",
            "28cd52c55ad2450b8f14cdc1cac0ca9c",
            "eee22e4b80c644dd941870e0d1696e22",
            "3195c847299d421787b12e618bfa9600",
            "b57c1c7117744d4c965034589cb2cf9e",
            "64c51cbf6288403c9a55aa3866b0109a",
            "f1b6aa706d6248d7b15a2fbc5eea0d2a",
            "225067b919a64abb990ff106c2a2ffd8",
            "f38118c3e9ab4055acda92d95eebb50c",
            "81f592cd41634bddb6d4a26c1a840780",
            "83d1dc1490c547319ffbfe99066b51cc",
            "4a69ea750af5415d981ac4ee697a3339",
            "a978dabe21a242f69d09c79b1027cde4",
            "c2f2e57852384611bb7abf12e4628ff9",
            "c4edcacd40264928a5382c3d2a630b55",
            "1c6d908db21c40e18eb210f325f7af5f",
            "6e6c53ee0e1e406b8d662ce9b7db7333"
          ]
        },
        "id": "e976d5b2",
        "outputId": "6c71188e-7ca7-41ea-cb7d-73f86ff25aed"
      },
      "outputs": [
        {
          "name": "stdout",
          "output_type": "stream",
          "text": [
            "Epoch 1/45\n"
          ]
        },
        {
          "data": {
            "application/vnd.jupyter.widget-view+json": {
              "model_id": "1fb453415b604eb09ee37750256dad8d",
              "version_major": 2,
              "version_minor": 0
            },
            "text/plain": [
              "  0%|          | 0/116 [00:00<?, ?it/s]"
            ]
          },
          "metadata": {},
          "output_type": "display_data"
        },
        {
          "name": "stdout",
          "output_type": "stream",
          "text": [
            "train_loss=0.2671,             val_loss=0.1490,             train_acc=0.0008,             val_acc=0.0000\n",
            "Epoch 2/45\n"
          ]
        },
        {
          "data": {
            "application/vnd.jupyter.widget-view+json": {
              "model_id": "0097d35666274893aad8dd6cd90d7466",
              "version_major": 2,
              "version_minor": 0
            },
            "text/plain": [
              "  0%|          | 0/116 [00:00<?, ?it/s]"
            ]
          },
          "metadata": {},
          "output_type": "display_data"
        },
        {
          "name": "stdout",
          "output_type": "stream",
          "text": [
            "train_loss=0.1395,             val_loss=0.1188,             train_acc=0.0000,             val_acc=0.0000\n",
            "Epoch 3/45\n"
          ]
        },
        {
          "data": {
            "application/vnd.jupyter.widget-view+json": {
              "model_id": "a3b2a9251c2b4108a8c7d15a9598eb73",
              "version_major": 2,
              "version_minor": 0
            },
            "text/plain": [
              "  0%|          | 0/116 [00:00<?, ?it/s]"
            ]
          },
          "metadata": {},
          "output_type": "display_data"
        },
        {
          "name": "stdout",
          "output_type": "stream",
          "text": [
            "train_loss=0.1177,             val_loss=0.1016,             train_acc=0.0057,             val_acc=0.0119\n",
            "Epoch 4/45\n"
          ]
        },
        {
          "data": {
            "application/vnd.jupyter.widget-view+json": {
              "model_id": "6a8ad0860ef8440f8b3f3541afae7273",
              "version_major": 2,
              "version_minor": 0
            },
            "text/plain": [
              "  0%|          | 0/116 [00:00<?, ?it/s]"
            ]
          },
          "metadata": {},
          "output_type": "display_data"
        },
        {
          "name": "stdout",
          "output_type": "stream",
          "text": [
            "train_loss=0.1019,             val_loss=0.0879,             train_acc=0.0830,             val_acc=0.1935\n",
            "Epoch 5/45\n"
          ]
        },
        {
          "data": {
            "application/vnd.jupyter.widget-view+json": {
              "model_id": "c6e91646c7cf4b2d9cf7ef8e0654aec4",
              "version_major": 2,
              "version_minor": 0
            },
            "text/plain": [
              "  0%|          | 0/116 [00:00<?, ?it/s]"
            ]
          },
          "metadata": {},
          "output_type": "display_data"
        },
        {
          "name": "stdout",
          "output_type": "stream",
          "text": [
            "train_loss=0.0896,             val_loss=0.0779,             train_acc=0.1950,             val_acc=0.2411\n",
            "Epoch 6/45\n"
          ]
        },
        {
          "data": {
            "application/vnd.jupyter.widget-view+json": {
              "model_id": "c900ab10835c42adbbf4a790158710ba",
              "version_major": 2,
              "version_minor": 0
            },
            "text/plain": [
              "  0%|          | 0/116 [00:00<?, ?it/s]"
            ]
          },
          "metadata": {},
          "output_type": "display_data"
        },
        {
          "name": "stdout",
          "output_type": "stream",
          "text": [
            "train_loss=0.0792,             val_loss=0.0692,             train_acc=0.2926,             val_acc=0.3838\n",
            "Epoch 7/45\n"
          ]
        },
        {
          "data": {
            "application/vnd.jupyter.widget-view+json": {
              "model_id": "c06832f619b24acaaa9db709cea272f9",
              "version_major": 2,
              "version_minor": 0
            },
            "text/plain": [
              "  0%|          | 0/116 [00:00<?, ?it/s]"
            ]
          },
          "metadata": {},
          "output_type": "display_data"
        },
        {
          "name": "stdout",
          "output_type": "stream",
          "text": [
            "train_loss=0.0707,             val_loss=0.0653,             train_acc=0.3767,             val_acc=0.4281\n",
            "Epoch 8/45\n"
          ]
        },
        {
          "data": {
            "application/vnd.jupyter.widget-view+json": {
              "model_id": "e9e0cce987874cbdb669c5a50b5d7a73",
              "version_major": 2,
              "version_minor": 0
            },
            "text/plain": [
              "  0%|          | 0/116 [00:00<?, ?it/s]"
            ]
          },
          "metadata": {},
          "output_type": "display_data"
        },
        {
          "name": "stdout",
          "output_type": "stream",
          "text": [
            "train_loss=0.0635,             val_loss=0.0598,             train_acc=0.4521,             val_acc=0.4703\n",
            "Epoch 9/45\n"
          ]
        },
        {
          "data": {
            "application/vnd.jupyter.widget-view+json": {
              "model_id": "88b2066b08ba4d3383d415f16ef31de2",
              "version_major": 2,
              "version_minor": 0
            },
            "text/plain": [
              "  0%|          | 0/116 [00:00<?, ?it/s]"
            ]
          },
          "metadata": {},
          "output_type": "display_data"
        },
        {
          "name": "stdout",
          "output_type": "stream",
          "text": [
            "train_loss=0.0575,             val_loss=0.0575,             train_acc=0.5043,             val_acc=0.5016\n",
            "Epoch 10/45\n"
          ]
        },
        {
          "data": {
            "application/vnd.jupyter.widget-view+json": {
              "model_id": "738436b8221c4cab9b358712bfa5f61a",
              "version_major": 2,
              "version_minor": 0
            },
            "text/plain": [
              "  0%|          | 0/116 [00:00<?, ?it/s]"
            ]
          },
          "metadata": {},
          "output_type": "display_data"
        },
        {
          "name": "stdout",
          "output_type": "stream",
          "text": [
            "train_loss=0.0520,             val_loss=0.0549,             train_acc=0.5530,             val_acc=0.5189\n",
            "Epoch 11/45\n"
          ]
        },
        {
          "data": {
            "application/vnd.jupyter.widget-view+json": {
              "model_id": "82baf597813f41c6867f9e8552f354df",
              "version_major": 2,
              "version_minor": 0
            },
            "text/plain": [
              "  0%|          | 0/116 [00:00<?, ?it/s]"
            ]
          },
          "metadata": {},
          "output_type": "display_data"
        },
        {
          "name": "stdout",
          "output_type": "stream",
          "text": [
            "train_loss=0.0474,             val_loss=0.0527,             train_acc=0.5876,             val_acc=0.5222\n",
            "Epoch 12/45\n"
          ]
        },
        {
          "data": {
            "application/vnd.jupyter.widget-view+json": {
              "model_id": "5b7d1ec935d149f99b4f94f49b7ae503",
              "version_major": 2,
              "version_minor": 0
            },
            "text/plain": [
              "  0%|          | 0/116 [00:00<?, ?it/s]"
            ]
          },
          "metadata": {},
          "output_type": "display_data"
        },
        {
          "name": "stdout",
          "output_type": "stream",
          "text": [
            "train_loss=0.0434,             val_loss=0.0523,             train_acc=0.6260,             val_acc=0.5222\n",
            "Epoch 13/45\n"
          ]
        },
        {
          "data": {
            "application/vnd.jupyter.widget-view+json": {
              "model_id": "6ae617f6873b47dbaaf8b27e0b28de35",
              "version_major": 2,
              "version_minor": 0
            },
            "text/plain": [
              "  0%|          | 0/116 [00:00<?, ?it/s]"
            ]
          },
          "metadata": {},
          "output_type": "display_data"
        },
        {
          "name": "stdout",
          "output_type": "stream",
          "text": [
            "train_loss=0.0402,             val_loss=0.0491,             train_acc=0.6501,             val_acc=0.5330\n",
            "Epoch 14/45\n"
          ]
        },
        {
          "data": {
            "application/vnd.jupyter.widget-view+json": {
              "model_id": "56a664fafb3044de994e2670efc80556",
              "version_major": 2,
              "version_minor": 0
            },
            "text/plain": [
              "  0%|          | 0/116 [00:00<?, ?it/s]"
            ]
          },
          "metadata": {},
          "output_type": "display_data"
        },
        {
          "name": "stdout",
          "output_type": "stream",
          "text": [
            "train_loss=0.0364,             val_loss=0.0495,             train_acc=0.6898,             val_acc=0.5373\n",
            "Epoch 15/45\n"
          ]
        },
        {
          "data": {
            "application/vnd.jupyter.widget-view+json": {
              "model_id": "71cb9452f13a40dabe1079cf4108d334",
              "version_major": 2,
              "version_minor": 0
            },
            "text/plain": [
              "  0%|          | 0/116 [00:00<?, ?it/s]"
            ]
          },
          "metadata": {},
          "output_type": "display_data"
        },
        {
          "name": "stdout",
          "output_type": "stream",
          "text": [
            "train_loss=0.0335,             val_loss=0.0488,             train_acc=0.7090,             val_acc=0.5449\n",
            "Epoch 16/45\n"
          ]
        },
        {
          "data": {
            "application/vnd.jupyter.widget-view+json": {
              "model_id": "2e9b75fa32ad44dd818f7feb6df1911c",
              "version_major": 2,
              "version_minor": 0
            },
            "text/plain": [
              "  0%|          | 0/116 [00:00<?, ?it/s]"
            ]
          },
          "metadata": {},
          "output_type": "display_data"
        },
        {
          "name": "stdout",
          "output_type": "stream",
          "text": [
            "train_loss=0.0308,             val_loss=0.0472,             train_acc=0.7385,             val_acc=0.5470\n",
            "Epoch 17/45\n"
          ]
        },
        {
          "data": {
            "application/vnd.jupyter.widget-view+json": {
              "model_id": "b511c0d8e46d4f03aca7ecceea990a22",
              "version_major": 2,
              "version_minor": 0
            },
            "text/plain": [
              "  0%|          | 0/116 [00:00<?, ?it/s]"
            ]
          },
          "metadata": {},
          "output_type": "display_data"
        },
        {
          "name": "stdout",
          "output_type": "stream",
          "text": [
            "train_loss=0.0285,             val_loss=0.0470,             train_acc=0.7626,             val_acc=0.5578\n",
            "Epoch 18/45\n"
          ]
        },
        {
          "data": {
            "application/vnd.jupyter.widget-view+json": {
              "model_id": "b9a3b01b28ed480b903fa253d4c021dc",
              "version_major": 2,
              "version_minor": 0
            },
            "text/plain": [
              "  0%|          | 0/116 [00:00<?, ?it/s]"
            ]
          },
          "metadata": {},
          "output_type": "display_data"
        },
        {
          "name": "stdout",
          "output_type": "stream",
          "text": [
            "train_loss=0.0265,             val_loss=0.0458,             train_acc=0.7788,             val_acc=0.5654\n",
            "Epoch 19/45\n"
          ]
        },
        {
          "data": {
            "application/vnd.jupyter.widget-view+json": {
              "model_id": "d74fde969d4f4ee5ae56f121c427762c",
              "version_major": 2,
              "version_minor": 0
            },
            "text/plain": [
              "  0%|          | 0/116 [00:00<?, ?it/s]"
            ]
          },
          "metadata": {},
          "output_type": "display_data"
        },
        {
          "name": "stdout",
          "output_type": "stream",
          "text": [
            "train_loss=0.0243,             val_loss=0.0452,             train_acc=0.8058,             val_acc=0.5686\n",
            "Epoch 20/45\n"
          ]
        },
        {
          "data": {
            "application/vnd.jupyter.widget-view+json": {
              "model_id": "64f260302abd4afdbdd975cdf0fa4737",
              "version_major": 2,
              "version_minor": 0
            },
            "text/plain": [
              "  0%|          | 0/116 [00:00<?, ?it/s]"
            ]
          },
          "metadata": {},
          "output_type": "display_data"
        },
        {
          "name": "stdout",
          "output_type": "stream",
          "text": [
            "train_loss=0.0226,             val_loss=0.0446,             train_acc=0.8237,             val_acc=0.5751\n",
            "Epoch 21/45\n"
          ]
        },
        {
          "data": {
            "application/vnd.jupyter.widget-view+json": {
              "model_id": "104f9bc2a38d49bc9412933e5ef94464",
              "version_major": 2,
              "version_minor": 0
            },
            "text/plain": [
              "  0%|          | 0/116 [00:00<?, ?it/s]"
            ]
          },
          "metadata": {},
          "output_type": "display_data"
        },
        {
          "name": "stdout",
          "output_type": "stream",
          "text": [
            "train_loss=0.0209,             val_loss=0.0439,             train_acc=0.8394,             val_acc=0.5751\n",
            "Epoch 22/45\n"
          ]
        },
        {
          "data": {
            "application/vnd.jupyter.widget-view+json": {
              "model_id": "1944da1905b34a06a1c0f560893869e7",
              "version_major": 2,
              "version_minor": 0
            },
            "text/plain": [
              "  0%|          | 0/116 [00:00<?, ?it/s]"
            ]
          },
          "metadata": {},
          "output_type": "display_data"
        },
        {
          "name": "stdout",
          "output_type": "stream",
          "text": [
            "train_loss=0.0194,             val_loss=0.0448,             train_acc=0.8529,             val_acc=0.5611\n",
            "Epoch 23/45\n"
          ]
        },
        {
          "data": {
            "application/vnd.jupyter.widget-view+json": {
              "model_id": "a46e2c4335224d10a8efa7c5afb0792a",
              "version_major": 2,
              "version_minor": 0
            },
            "text/plain": [
              "  0%|          | 0/116 [00:00<?, ?it/s]"
            ]
          },
          "metadata": {},
          "output_type": "display_data"
        },
        {
          "name": "stdout",
          "output_type": "stream",
          "text": [
            "train_loss=0.0179,             val_loss=0.0441,             train_acc=0.8751,             val_acc=0.5849\n",
            "Epoch 24/45\n"
          ]
        },
        {
          "data": {
            "application/vnd.jupyter.widget-view+json": {
              "model_id": "a89c429794664f5f909d79b199b07d8a",
              "version_major": 2,
              "version_minor": 0
            },
            "text/plain": [
              "  0%|          | 0/116 [00:00<?, ?it/s]"
            ]
          },
          "metadata": {},
          "output_type": "display_data"
        },
        {
          "name": "stdout",
          "output_type": "stream",
          "text": [
            "train_loss=0.0167,             val_loss=0.0437,             train_acc=0.8851,             val_acc=0.5892\n",
            "Epoch 25/45\n"
          ]
        },
        {
          "data": {
            "application/vnd.jupyter.widget-view+json": {
              "model_id": "caa07b67368045968019ccc8ff4c10b0",
              "version_major": 2,
              "version_minor": 0
            },
            "text/plain": [
              "  0%|          | 0/116 [00:00<?, ?it/s]"
            ]
          },
          "metadata": {},
          "output_type": "display_data"
        },
        {
          "name": "stdout",
          "output_type": "stream",
          "text": [
            "train_loss=0.0157,             val_loss=0.0445,             train_acc=0.8945,             val_acc=0.5578\n",
            "Epoch 26/45\n"
          ]
        },
        {
          "data": {
            "application/vnd.jupyter.widget-view+json": {
              "model_id": "309d09838b2e465fa1b9bc6fcc30675b",
              "version_major": 2,
              "version_minor": 0
            },
            "text/plain": [
              "  0%|          | 0/116 [00:00<?, ?it/s]"
            ]
          },
          "metadata": {},
          "output_type": "display_data"
        },
        {
          "name": "stdout",
          "output_type": "stream",
          "text": [
            "train_loss=0.0144,             val_loss=0.0436,             train_acc=0.9105,             val_acc=0.5751\n",
            "Epoch 27/45\n"
          ]
        },
        {
          "data": {
            "application/vnd.jupyter.widget-view+json": {
              "model_id": "a9168f5c7cb3462f9e30ac3947c6b464",
              "version_major": 2,
              "version_minor": 0
            },
            "text/plain": [
              "  0%|          | 0/116 [00:00<?, ?it/s]"
            ]
          },
          "metadata": {},
          "output_type": "display_data"
        },
        {
          "name": "stdout",
          "output_type": "stream",
          "text": [
            "train_loss=0.0134,             val_loss=0.0445,             train_acc=0.9148,             val_acc=0.5914\n",
            "Epoch 28/45\n"
          ]
        },
        {
          "data": {
            "application/vnd.jupyter.widget-view+json": {
              "model_id": "5c3204212c094e00ad0418c48ffba08a",
              "version_major": 2,
              "version_minor": 0
            },
            "text/plain": [
              "  0%|          | 0/116 [00:00<?, ?it/s]"
            ]
          },
          "metadata": {},
          "output_type": "display_data"
        },
        {
          "name": "stdout",
          "output_type": "stream",
          "text": [
            "train_loss=0.0128,             val_loss=0.0442,             train_acc=0.9237,             val_acc=0.5859\n",
            "Epoch 29/45\n"
          ]
        },
        {
          "data": {
            "application/vnd.jupyter.widget-view+json": {
              "model_id": "633e5df8d83f41ceb4e9dd8f0b3dfdc2",
              "version_major": 2,
              "version_minor": 0
            },
            "text/plain": [
              "  0%|          | 0/116 [00:00<?, ?it/s]"
            ]
          },
          "metadata": {},
          "output_type": "display_data"
        },
        {
          "name": "stdout",
          "output_type": "stream",
          "text": [
            "train_loss=0.0119,             val_loss=0.0441,             train_acc=0.9300,             val_acc=0.5784\n",
            "Epoch 30/45\n"
          ]
        },
        {
          "data": {
            "application/vnd.jupyter.widget-view+json": {
              "model_id": "28cd52c55ad2450b8f14cdc1cac0ca9c",
              "version_major": 2,
              "version_minor": 0
            },
            "text/plain": [
              "  0%|          | 0/116 [00:00<?, ?it/s]"
            ]
          },
          "metadata": {},
          "output_type": "display_data"
        },
        {
          "name": "stdout",
          "output_type": "stream",
          "text": [
            "train_loss=0.0110,             val_loss=0.0450,             train_acc=0.9419,             val_acc=0.5827\n",
            "Epoch 31/45\n"
          ]
        },
        {
          "data": {
            "application/vnd.jupyter.widget-view+json": {
              "model_id": "eee22e4b80c644dd941870e0d1696e22",
              "version_major": 2,
              "version_minor": 0
            },
            "text/plain": [
              "  0%|          | 0/116 [00:00<?, ?it/s]"
            ]
          },
          "metadata": {},
          "output_type": "display_data"
        },
        {
          "name": "stdout",
          "output_type": "stream",
          "text": [
            "train_loss=0.0103,             val_loss=0.0440,             train_acc=0.9451,             val_acc=0.5849\n",
            "Epoch 32/45\n"
          ]
        },
        {
          "data": {
            "application/vnd.jupyter.widget-view+json": {
              "model_id": "3195c847299d421787b12e618bfa9600",
              "version_major": 2,
              "version_minor": 0
            },
            "text/plain": [
              "  0%|          | 0/116 [00:00<?, ?it/s]"
            ]
          },
          "metadata": {},
          "output_type": "display_data"
        },
        {
          "name": "stdout",
          "output_type": "stream",
          "text": [
            "train_loss=0.0101,             val_loss=0.0461,             train_acc=0.9473,             val_acc=0.5816\n",
            "Epoch 33/45\n"
          ]
        },
        {
          "data": {
            "application/vnd.jupyter.widget-view+json": {
              "model_id": "b57c1c7117744d4c965034589cb2cf9e",
              "version_major": 2,
              "version_minor": 0
            },
            "text/plain": [
              "  0%|          | 0/116 [00:00<?, ?it/s]"
            ]
          },
          "metadata": {},
          "output_type": "display_data"
        },
        {
          "name": "stdout",
          "output_type": "stream",
          "text": [
            "train_loss=0.0096,             val_loss=0.0454,             train_acc=0.9470,             val_acc=0.5827\n",
            "Epoch 34/45\n"
          ]
        },
        {
          "data": {
            "application/vnd.jupyter.widget-view+json": {
              "model_id": "64c51cbf6288403c9a55aa3866b0109a",
              "version_major": 2,
              "version_minor": 0
            },
            "text/plain": [
              "  0%|          | 0/116 [00:00<?, ?it/s]"
            ]
          },
          "metadata": {},
          "output_type": "display_data"
        },
        {
          "name": "stdout",
          "output_type": "stream",
          "text": [
            "train_loss=0.0089,             val_loss=0.0437,             train_acc=0.9562,             val_acc=0.5881\n",
            "Epoch 35/45\n"
          ]
        },
        {
          "data": {
            "application/vnd.jupyter.widget-view+json": {
              "model_id": "f1b6aa706d6248d7b15a2fbc5eea0d2a",
              "version_major": 2,
              "version_minor": 0
            },
            "text/plain": [
              "  0%|          | 0/116 [00:00<?, ?it/s]"
            ]
          },
          "metadata": {},
          "output_type": "display_data"
        },
        {
          "name": "stdout",
          "output_type": "stream",
          "text": [
            "train_loss=0.0081,             val_loss=0.0454,             train_acc=0.9627,             val_acc=0.5859\n",
            "Epoch 36/45\n"
          ]
        },
        {
          "data": {
            "application/vnd.jupyter.widget-view+json": {
              "model_id": "225067b919a64abb990ff106c2a2ffd8",
              "version_major": 2,
              "version_minor": 0
            },
            "text/plain": [
              "  0%|          | 0/116 [00:00<?, ?it/s]"
            ]
          },
          "metadata": {},
          "output_type": "display_data"
        },
        {
          "name": "stdout",
          "output_type": "stream",
          "text": [
            "train_loss=0.0077,             val_loss=0.0468,             train_acc=0.9659,             val_acc=0.5827\n",
            "Epoch 37/45\n"
          ]
        },
        {
          "data": {
            "application/vnd.jupyter.widget-view+json": {
              "model_id": "f38118c3e9ab4055acda92d95eebb50c",
              "version_major": 2,
              "version_minor": 0
            },
            "text/plain": [
              "  0%|          | 0/116 [00:00<?, ?it/s]"
            ]
          },
          "metadata": {},
          "output_type": "display_data"
        },
        {
          "name": "stdout",
          "output_type": "stream",
          "text": [
            "train_loss=0.0075,             val_loss=0.0459,             train_acc=0.9665,             val_acc=0.5968\n",
            "Epoch 38/45\n"
          ]
        },
        {
          "data": {
            "application/vnd.jupyter.widget-view+json": {
              "model_id": "81f592cd41634bddb6d4a26c1a840780",
              "version_major": 2,
              "version_minor": 0
            },
            "text/plain": [
              "  0%|          | 0/116 [00:00<?, ?it/s]"
            ]
          },
          "metadata": {},
          "output_type": "display_data"
        },
        {
          "name": "stdout",
          "output_type": "stream",
          "text": [
            "train_loss=0.0069,             val_loss=0.0456,             train_acc=0.9719,             val_acc=0.5892\n",
            "Epoch 39/45\n"
          ]
        },
        {
          "data": {
            "application/vnd.jupyter.widget-view+json": {
              "model_id": "83d1dc1490c547319ffbfe99066b51cc",
              "version_major": 2,
              "version_minor": 0
            },
            "text/plain": [
              "  0%|          | 0/116 [00:00<?, ?it/s]"
            ]
          },
          "metadata": {},
          "output_type": "display_data"
        },
        {
          "name": "stdout",
          "output_type": "stream",
          "text": [
            "train_loss=0.0065,             val_loss=0.0453,             train_acc=0.9727,             val_acc=0.5924\n",
            "Epoch 40/45\n"
          ]
        },
        {
          "data": {
            "application/vnd.jupyter.widget-view+json": {
              "model_id": "4a69ea750af5415d981ac4ee697a3339",
              "version_major": 2,
              "version_minor": 0
            },
            "text/plain": [
              "  0%|          | 0/116 [00:00<?, ?it/s]"
            ]
          },
          "metadata": {},
          "output_type": "display_data"
        },
        {
          "name": "stdout",
          "output_type": "stream",
          "text": [
            "train_loss=0.0060,             val_loss=0.0461,             train_acc=0.9773,             val_acc=0.5935\n",
            "Epoch 41/45\n"
          ]
        },
        {
          "data": {
            "application/vnd.jupyter.widget-view+json": {
              "model_id": "a978dabe21a242f69d09c79b1027cde4",
              "version_major": 2,
              "version_minor": 0
            },
            "text/plain": [
              "  0%|          | 0/116 [00:00<?, ?it/s]"
            ]
          },
          "metadata": {},
          "output_type": "display_data"
        },
        {
          "name": "stdout",
          "output_type": "stream",
          "text": [
            "train_loss=0.0059,             val_loss=0.0459,             train_acc=0.9776,             val_acc=0.5903\n",
            "Epoch 42/45\n"
          ]
        },
        {
          "data": {
            "application/vnd.jupyter.widget-view+json": {
              "model_id": "c2f2e57852384611bb7abf12e4628ff9",
              "version_major": 2,
              "version_minor": 0
            },
            "text/plain": [
              "  0%|          | 0/116 [00:00<?, ?it/s]"
            ]
          },
          "metadata": {},
          "output_type": "display_data"
        },
        {
          "name": "stdout",
          "output_type": "stream",
          "text": [
            "train_loss=0.0059,             val_loss=0.0464,             train_acc=0.9781,             val_acc=0.5914\n",
            "Epoch 43/45\n"
          ]
        },
        {
          "data": {
            "application/vnd.jupyter.widget-view+json": {
              "model_id": "c4edcacd40264928a5382c3d2a630b55",
              "version_major": 2,
              "version_minor": 0
            },
            "text/plain": [
              "  0%|          | 0/116 [00:00<?, ?it/s]"
            ]
          },
          "metadata": {},
          "output_type": "display_data"
        },
        {
          "name": "stdout",
          "output_type": "stream",
          "text": [
            "train_loss=0.0058,             val_loss=0.0477,             train_acc=0.9773,             val_acc=0.5751\n",
            "Epoch 44/45\n"
          ]
        },
        {
          "data": {
            "application/vnd.jupyter.widget-view+json": {
              "model_id": "1c6d908db21c40e18eb210f325f7af5f",
              "version_major": 2,
              "version_minor": 0
            },
            "text/plain": [
              "  0%|          | 0/116 [00:00<?, ?it/s]"
            ]
          },
          "metadata": {},
          "output_type": "display_data"
        },
        {
          "name": "stdout",
          "output_type": "stream",
          "text": [
            "train_loss=0.0053,             val_loss=0.0479,             train_acc=0.9827,             val_acc=0.5881\n",
            "Epoch 45/45\n"
          ]
        },
        {
          "data": {
            "application/vnd.jupyter.widget-view+json": {
              "model_id": "6e6c53ee0e1e406b8d662ce9b7db7333",
              "version_major": 2,
              "version_minor": 0
            },
            "text/plain": [
              "  0%|          | 0/116 [00:00<?, ?it/s]"
            ]
          },
          "metadata": {},
          "output_type": "display_data"
        },
        {
          "name": "stdout",
          "output_type": "stream",
          "text": [
            "train_loss=0.0047,             val_loss=0.0471,             train_acc=0.9876,             val_acc=0.5870\n"
          ]
        }
      ],
      "source": [
        "from collections import defaultdict\n",
        "import tqdm.notebook as tq\n",
        "\n",
        "history = defaultdict(list)\n",
        "best_accuracy = 0\n",
        "\n",
        "for epoch in range(1, EPOCHS + 1):\n",
        "    print(f'Epoch {epoch}/{EPOCHS}')\n",
        "\n",
        "    model, train_acc, train_loss = train_model(\n",
        "        train_data_loader,\n",
        "        model,\n",
        "        optimizer\n",
        "        )\n",
        "\n",
        "    val_acc, val_loss = eval_model(\n",
        "        val_data_loader,\n",
        "        model,\n",
        "        optimizer\n",
        "        )\n",
        "\n",
        "    print(f'train_loss={train_loss:.4f}, \\\n",
        "            val_loss={val_loss:.4f}, \\\n",
        "            train_acc={train_acc:.4f}, \\\n",
        "            val_acc={val_acc:.4f}')\n",
        "\n",
        "    history['train_acc'].append(train_acc)\n",
        "    history['train_loss'].append(train_loss)\n",
        "    history['val_acc'].append(val_acc)\n",
        "    history['val_loss'].append(val_loss)\n",
        "\n",
        "    # save the best model\n",
        "    if val_acc > best_accuracy:\n",
        "        torch.save(model.state_dict(), \"ruroberta-allfeatures-best.pth\")\n",
        "        best_accuracy = val_acc"
      ]
    },
    {
      "cell_type": "code",
      "execution_count": null,
      "id": "bb755185",
      "metadata": {
        "execution": {
          "iopub.execute_input": "2024-10-29T09:04:10.443214Z",
          "iopub.status.busy": "2024-10-29T09:04:10.442308Z",
          "iopub.status.idle": "2024-10-29T09:04:22.124374Z",
          "shell.execute_reply": "2024-10-29T09:04:22.123584Z"
        },
        "papermill": {
          "duration": 11.779223,
          "end_time": "2024-10-29T09:04:22.126729",
          "exception": false,
          "start_time": "2024-10-29T09:04:10.347506",
          "status": "completed"
        },
        "tags": [],
        "id": "bb755185"
      },
      "outputs": [],
      "source": [
        "texts, predictions, prediction_probs, target_values = get_predictions(model, val_data_loader)"
      ]
    },
    {
      "cell_type": "code",
      "execution_count": null,
      "id": "336b18cc",
      "metadata": {
        "execution": {
          "iopub.execute_input": "2024-10-29T09:04:22.359864Z",
          "iopub.status.busy": "2024-10-29T09:04:22.359480Z",
          "iopub.status.idle": "2024-10-29T09:04:22.377799Z",
          "shell.execute_reply": "2024-10-29T09:04:22.376827Z"
        },
        "papermill": {
          "duration": 0.115034,
          "end_time": "2024-10-29T09:04:22.379876",
          "exception": false,
          "start_time": "2024-10-29T09:04:22.264842",
          "status": "completed"
        },
        "tags": [],
        "id": "336b18cc",
        "outputId": "ebe26333-ba6d-4b27-d63e-3222e6adee16"
      },
      "outputs": [
        {
          "name": "stdout",
          "output_type": "stream",
          "text": [
            "                precision    recall  f1-score   support\n",
            "\n",
            " trend_id_res0       0.82      0.78      0.80       176\n",
            " trend_id_res1       0.81      0.84      0.83        77\n",
            " trend_id_res2       0.71      0.73      0.72       111\n",
            " trend_id_res3       0.65      0.74      0.69        72\n",
            " trend_id_res4       0.56      0.50      0.53        18\n",
            " trend_id_res5       0.80      1.00      0.89         8\n",
            " trend_id_res6       1.00      0.60      0.75         5\n",
            " trend_id_res7       0.60      0.38      0.46         8\n",
            " trend_id_res8       0.72      0.94      0.82        31\n",
            " trend_id_res9       0.00      0.00      0.00         1\n",
            "trend_id_res10       0.62      0.65      0.63        20\n",
            "trend_id_res11       0.79      0.90      0.84        21\n",
            "trend_id_res12       0.92      0.95      0.94       133\n",
            "trend_id_res13       0.50      0.20      0.29         5\n",
            "trend_id_res14       0.58      0.64      0.61        11\n",
            "trend_id_res15       0.77      0.67      0.71        15\n",
            "trend_id_res16       0.67      0.72      0.69        25\n",
            "trend_id_res17       0.00      0.00      0.00         1\n",
            "trend_id_res18       0.67      0.70      0.68        43\n",
            "trend_id_res19       0.94      0.67      0.78        75\n",
            "trend_id_res20       0.58      0.58      0.58        24\n",
            "trend_id_res21       0.64      0.88      0.74        16\n",
            "trend_id_res22       0.67      0.29      0.40         7\n",
            "trend_id_res23       0.62      0.50      0.56        10\n",
            "trend_id_res24       1.00      1.00      1.00         1\n",
            "trend_id_res25       0.00      0.00      0.00         0\n",
            "trend_id_res26       1.00      0.50      0.67         6\n",
            "trend_id_res27       0.76      0.79      0.78        97\n",
            "trend_id_res28       0.82      0.96      0.89        81\n",
            "trend_id_res29       0.75      0.27      0.40        11\n",
            "trend_id_res30       0.86      0.83      0.85        53\n",
            "trend_id_res31       0.67      0.22      0.33         9\n",
            "trend_id_res32       0.00      0.00      0.00         3\n",
            "trend_id_res33       0.67      1.00      0.80         2\n",
            "trend_id_res34       0.00      0.00      0.00         1\n",
            "trend_id_res35       0.64      1.00      0.78         7\n",
            "trend_id_res36       0.80      0.44      0.57        36\n",
            "trend_id_res37       0.78      0.78      0.78         9\n",
            "trend_id_res38       0.80      1.00      0.89         4\n",
            "trend_id_res39       0.00      0.00      0.00         8\n",
            "trend_id_res40       0.53      0.42      0.47        19\n",
            "trend_id_res41       0.00      0.00      0.00         5\n",
            "trend_id_res42       1.00      0.71      0.83         7\n",
            "trend_id_res43       1.00      0.25      0.40         4\n",
            "trend_id_res44       0.00      0.00      0.00         1\n",
            "trend_id_res45       1.00      0.20      0.33         5\n",
            "trend_id_res46       0.00      0.00      0.00         1\n",
            "trend_id_res47       1.00      0.11      0.20         9\n",
            "trend_id_res48       0.83      0.83      0.83         6\n",
            "trend_id_res49       0.00      0.00      0.00         2\n",
            "\n",
            "     micro avg       0.77      0.74      0.76      1300\n",
            "     macro avg       0.61      0.52      0.53      1300\n",
            "  weighted avg       0.77      0.74      0.74      1300\n",
            "   samples avg       0.76      0.76      0.75      1300\n",
            "\n"
          ]
        }
      ],
      "source": [
        "print(classification_report(target_values, predictions, target_names=targets))"
      ]
    },
    {
      "cell_type": "markdown",
      "id": "6741ef67",
      "metadata": {
        "papermill": {
          "duration": 0.092458,
          "end_time": "2024-10-29T09:04:22.565567",
          "exception": false,
          "start_time": "2024-10-29T09:04:22.473109",
          "status": "completed"
        },
        "tags": [],
        "id": "6741ef67"
      },
      "source": [
        "# График accuracy для обучения с полными данными"
      ]
    },
    {
      "cell_type": "code",
      "execution_count": null,
      "id": "0fd1bf3a",
      "metadata": {
        "execution": {
          "iopub.execute_input": "2024-10-29T09:04:22.753888Z",
          "iopub.status.busy": "2024-10-29T09:04:22.753539Z",
          "iopub.status.idle": "2024-10-29T09:04:23.043366Z",
          "shell.execute_reply": "2024-10-29T09:04:23.042535Z"
        },
        "papermill": {
          "duration": 0.386077,
          "end_time": "2024-10-29T09:04:23.045753",
          "exception": false,
          "start_time": "2024-10-29T09:04:22.659676",
          "status": "completed"
        },
        "tags": [],
        "id": "0fd1bf3a",
        "outputId": "44307952-d1ff-42f2-bb59-6375105ea43f"
      },
      "outputs": [
        {
          "data": {
            "image/png": "[encoded data removed]",
            "text/plain": [
              "<Figure size 1000x700 with 1 Axes>"
            ]
          },
          "metadata": {},
          "output_type": "display_data"
        }
      ],
      "source": [
        "plt.rcParams[\"figure.figsize\"] = (10,7)\n",
        "\n",
        "plt.plot(history['train_acc'], label='train accuracy')\n",
        "plt.plot(history['val_acc'], label='validation accuracy')\n",
        "\n",
        "plt.title('Training history')\n",
        "plt.ylabel('Accuracy')\n",
        "plt.xlabel('Epoch')\n",
        "\n",
        "plt.legend()\n",
        "plt.ylim([0, 1]);\n",
        "plt.grid()\n",
        "plt.show()"
      ]
    }
  ],
  "metadata": {
    "accelerator": "GPU",
    "colab": {
      "gpuType": "T4",
      "provenance": []
    },
    "kaggle": {
      "accelerator": "gpu",
      "dataSources": [
        {
          "datasetId": 5764736,
          "sourceId": 9570393,
          "sourceType": "datasetVersion"
        },
        {
          "modelId": 127886,
          "modelInstanceId": 103666,
          "sourceId": 123191,
          "sourceType": "modelInstanceVersion"
        }
      ],
      "dockerImageVersionId": 30787,
      "isGpuEnabled": true,
      "isInternetEnabled": true,
      "language": "python",
      "sourceType": "notebook"
    },
    "kernelspec": {
      "display_name": "Python 3",
      "language": "python",
      "name": "python3"
    },
    "language_info": {
      "codemirror_mode": {
        "name": "ipython",
        "version": 3
      },
      "file_extension": ".py",
      "mimetype": "text/x-python",
      "name": "python",
      "nbconvert_exporter": "python",
      "pygments_lexer": "ipython3",
      "version": "3.10.14"
    },
    "papermill": {
      "default_parameters": {},
      "duration": 13793.799705,
      "end_time": "2024-10-29T09:04:25.442015",
      "environment_variables": {},
      "exception": null,
      "input_path": "__notebook__.ipynb",
      "output_path": "__notebook__.ipynb",
      "parameters": {},
      "start_time": "2024-10-29T05:14:31.642310",
      "version": "2.6.0"
    },
    "widgets": {
      "application/vnd.jupyter.widget-state+json": {}
    }
  },
  "nbformat": 4,
  "nbformat_minor": 5
}